{
 "cells": [
  {
   "cell_type": "markdown",
   "id": "adjustable-steering",
   "metadata": {},
   "source": [
    "# Iteration 4 BDAS (Steps 1 – 8)\n",
    "\n",
    "## Shiyu Lin\n",
    "### slin648"
   ]
  },
  {
   "cell_type": "code",
   "execution_count": 1,
   "id": "italic-fabric",
   "metadata": {},
   "outputs": [],
   "source": [
    "import numpy as np\n",
    "from sklearn.experimental import enable_iterative_imputer\n",
    "from sklearn.impute import IterativeImputer\n",
    "from sklearn.model_selection import cross_val_score\n",
    "from sklearn.feature_selection import SelectKBest\n",
    "from sklearn.feature_selection import f_classif, f_regression\n",
    "import matplotlib.pyplot as plt\n",
    "import pandas as pd\n",
    "\n",
    "from sklearn.model_selection import RepeatedKFold\n",
    "from sklearn.model_selection import RepeatedStratifiedKFold\n",
    "from sklearn.metrics import r2_score\n",
    "from sklearn.metrics import mean_squared_error\n",
    "from sklearn.linear_model import LinearRegression\n",
    "from sklearn.ensemble import RandomForestRegressor\n",
    "from sklearn.ensemble import GradientBoostingRegressor\n"
   ]
  },
  {
   "cell_type": "code",
   "execution_count": 2,
   "id": "republican-proposal",
   "metadata": {},
   "outputs": [],
   "source": [
    "# Reload local python files every 2 seconds\n",
    "%load_ext autoreload\n",
    "%autoreload 2\n"
   ]
  },
  {
   "cell_type": "markdown",
   "id": "combined-reaction",
   "metadata": {},
   "source": [
    "### 2.3.1 Import the Data"
   ]
  },
  {
   "cell_type": "code",
   "execution_count": 3,
   "id": "5d6655e3",
   "metadata": {},
   "outputs": [
    {
     "data": {
      "text/html": [
       "<div>\n",
       "<style scoped>\n",
       "    .dataframe tbody tr th:only-of-type {\n",
       "        vertical-align: middle;\n",
       "    }\n",
       "\n",
       "    .dataframe tbody tr th {\n",
       "        vertical-align: top;\n",
       "    }\n",
       "\n",
       "    .dataframe thead th {\n",
       "        text-align: right;\n",
       "    }\n",
       "</style>\n",
       "<table border=\"1\" class=\"dataframe\">\n",
       "  <thead>\n",
       "    <tr style=\"text-align: right;\">\n",
       "      <th></th>\n",
       "      <th>logSalePrice</th>\n",
       "      <th>lotSize</th>\n",
       "      <th>longitude</th>\n",
       "      <th>latitude</th>\n",
       "      <th>saleDate</th>\n",
       "      <th>saleQtr</th>\n",
       "      <th>infRate</th>\n",
       "      <th>postCode</th>\n",
       "      <th>crimeDensity</th>\n",
       "      <th>crimeRate</th>\n",
       "      <th>...</th>\n",
       "      <th>neph</th>\n",
       "      <th>PM10</th>\n",
       "      <th>SO2</th>\n",
       "      <th>distToAmbulance</th>\n",
       "      <th>distToFactory</th>\n",
       "      <th>distToFerry</th>\n",
       "      <th>distToHospital</th>\n",
       "      <th>distToMedical</th>\n",
       "      <th>distToSchool</th>\n",
       "      <th>distToUniversity</th>\n",
       "    </tr>\n",
       "  </thead>\n",
       "  <tbody>\n",
       "    <tr>\n",
       "      <th>0</th>\n",
       "      <td>14.002571</td>\n",
       "      <td>645.000000</td>\n",
       "      <td>151.081364</td>\n",
       "      <td>-33.881746</td>\n",
       "      <td>23/07/2001</td>\n",
       "      <td>3</td>\n",
       "      <td>0.131753</td>\n",
       "      <td>2135</td>\n",
       "      <td>658.072048</td>\n",
       "      <td>0.329212</td>\n",
       "      <td>...</td>\n",
       "      <td>0.325014</td>\n",
       "      <td>18.983450</td>\n",
       "      <td>0.116958</td>\n",
       "      <td>3.945106</td>\n",
       "      <td>4.778739</td>\n",
       "      <td>5.579980</td>\n",
       "      <td>1.190414</td>\n",
       "      <td>0.516930</td>\n",
       "      <td>0.229914</td>\n",
       "      <td>0.793934</td>\n",
       "    </tr>\n",
       "    <tr>\n",
       "      <th>1</th>\n",
       "      <td>13.024223</td>\n",
       "      <td>662.924964</td>\n",
       "      <td>150.952692</td>\n",
       "      <td>-33.865284</td>\n",
       "      <td>26/11/2001</td>\n",
       "      <td>4</td>\n",
       "      <td>0.080510</td>\n",
       "      <td>2165</td>\n",
       "      <td>369.170296</td>\n",
       "      <td>0.207048</td>\n",
       "      <td>...</td>\n",
       "      <td>0.228423</td>\n",
       "      <td>19.087556</td>\n",
       "      <td>0.104246</td>\n",
       "      <td>2.012216</td>\n",
       "      <td>4.711523</td>\n",
       "      <td>7.844125</td>\n",
       "      <td>3.218593</td>\n",
       "      <td>0.982623</td>\n",
       "      <td>0.857011</td>\n",
       "      <td>3.888091</td>\n",
       "    </tr>\n",
       "    <tr>\n",
       "      <th>2</th>\n",
       "      <td>13.737006</td>\n",
       "      <td>812.008339</td>\n",
       "      <td>151.288282</td>\n",
       "      <td>-33.769329</td>\n",
       "      <td>21/11/2001</td>\n",
       "      <td>4</td>\n",
       "      <td>0.054411</td>\n",
       "      <td>2096</td>\n",
       "      <td>110.100834</td>\n",
       "      <td>0.129077</td>\n",
       "      <td>...</td>\n",
       "      <td>0.302068</td>\n",
       "      <td>15.840259</td>\n",
       "      <td>0.116958</td>\n",
       "      <td>3.146526</td>\n",
       "      <td>4.523376</td>\n",
       "      <td>8.249469</td>\n",
       "      <td>0.696130</td>\n",
       "      <td>1.451547</td>\n",
       "      <td>0.821424</td>\n",
       "      <td>2.334654</td>\n",
       "    </tr>\n",
       "    <tr>\n",
       "      <th>3</th>\n",
       "      <td>12.063030</td>\n",
       "      <td>553.000000</td>\n",
       "      <td>150.815021</td>\n",
       "      <td>-33.732588</td>\n",
       "      <td>01/06/2001</td>\n",
       "      <td>2</td>\n",
       "      <td>0.003506</td>\n",
       "      <td>2770</td>\n",
       "      <td>220.064407</td>\n",
       "      <td>0.206920</td>\n",
       "      <td>...</td>\n",
       "      <td>0.290143</td>\n",
       "      <td>16.855367</td>\n",
       "      <td>0.065339</td>\n",
       "      <td>2.044986</td>\n",
       "      <td>3.058969</td>\n",
       "      <td>20.149325</td>\n",
       "      <td>3.818996</td>\n",
       "      <td>1.297252</td>\n",
       "      <td>0.911597</td>\n",
       "      <td>0.822585</td>\n",
       "    </tr>\n",
       "    <tr>\n",
       "      <th>4</th>\n",
       "      <td>14.343142</td>\n",
       "      <td>719.000000</td>\n",
       "      <td>151.204092</td>\n",
       "      <td>-33.816966</td>\n",
       "      <td>25/09/2001</td>\n",
       "      <td>3</td>\n",
       "      <td>0.016782</td>\n",
       "      <td>2065</td>\n",
       "      <td>486.317741</td>\n",
       "      <td>0.188120</td>\n",
       "      <td>...</td>\n",
       "      <td>0.302068</td>\n",
       "      <td>15.840259</td>\n",
       "      <td>0.116958</td>\n",
       "      <td>0.039839</td>\n",
       "      <td>5.096812</td>\n",
       "      <td>3.116945</td>\n",
       "      <td>1.215233</td>\n",
       "      <td>1.361083</td>\n",
       "      <td>0.242207</td>\n",
       "      <td>0.989742</td>\n",
       "    </tr>\n",
       "  </tbody>\n",
       "</table>\n",
       "<p>5 rows × 39 columns</p>\n",
       "</div>"
      ],
      "text/plain": [
       "   logSalePrice     lotSize   longitude   latitude    saleDate  saleQtr  \\\n",
       "0     14.002571  645.000000  151.081364 -33.881746  23/07/2001        3   \n",
       "1     13.024223  662.924964  150.952692 -33.865284  26/11/2001        4   \n",
       "2     13.737006  812.008339  151.288282 -33.769329  21/11/2001        4   \n",
       "3     12.063030  553.000000  150.815021 -33.732588  01/06/2001        2   \n",
       "4     14.343142  719.000000  151.204092 -33.816966  25/09/2001        3   \n",
       "\n",
       "    infRate  postCode  crimeDensity  crimeRate  ...      neph       PM10  \\\n",
       "0  0.131753      2135    658.072048   0.329212  ...  0.325014  18.983450   \n",
       "1  0.080510      2165    369.170296   0.207048  ...  0.228423  19.087556   \n",
       "2  0.054411      2096    110.100834   0.129077  ...  0.302068  15.840259   \n",
       "3  0.003506      2770    220.064407   0.206920  ...  0.290143  16.855367   \n",
       "4  0.016782      2065    486.317741   0.188120  ...  0.302068  15.840259   \n",
       "\n",
       "        SO2  distToAmbulance  distToFactory  distToFerry  distToHospital  \\\n",
       "0  0.116958         3.945106       4.778739     5.579980        1.190414   \n",
       "1  0.104246         2.012216       4.711523     7.844125        3.218593   \n",
       "2  0.116958         3.146526       4.523376     8.249469        0.696130   \n",
       "3  0.065339         2.044986       3.058969    20.149325        3.818996   \n",
       "4  0.116958         0.039839       5.096812     3.116945        1.215233   \n",
       "\n",
       "   distToMedical  distToSchool  distToUniversity  \n",
       "0       0.516930      0.229914          0.793934  \n",
       "1       0.982623      0.857011          3.888091  \n",
       "2       1.451547      0.821424          2.334654  \n",
       "3       1.297252      0.911597          0.822585  \n",
       "4       1.361083      0.242207          0.989742  \n",
       "\n",
       "[5 rows x 39 columns]"
      ]
     },
     "execution_count": 3,
     "metadata": {},
     "output_type": "execute_result"
    }
   ],
   "source": [
    "# read in data\n",
    "sydney = pd.read_csv(\"SydneyEstateNa.csv\", sep=',', header='infer')\n",
    "# drop the first column\n",
    "sydney = sydney.drop(sydney.columns[0], axis=1)\n",
    "\n",
    "# head of data\n",
    "sydney.head()\n"
   ]
  },
  {
   "cell_type": "markdown",
   "id": "51196490",
   "metadata": {},
   "source": [
    "### 2.3.2 Explore and visualize"
   ]
  },
  {
   "cell_type": "code",
   "execution_count": 4,
   "id": "1629d178",
   "metadata": {},
   "outputs": [
    {
     "data": {
      "text/html": [
       "<div>\n",
       "<style scoped>\n",
       "    .dataframe tbody tr th:only-of-type {\n",
       "        vertical-align: middle;\n",
       "    }\n",
       "\n",
       "    .dataframe tbody tr th {\n",
       "        vertical-align: top;\n",
       "    }\n",
       "\n",
       "    .dataframe thead th {\n",
       "        text-align: right;\n",
       "    }\n",
       "</style>\n",
       "<table border=\"1\" class=\"dataframe\">\n",
       "  <thead>\n",
       "    <tr style=\"text-align: right;\">\n",
       "      <th></th>\n",
       "      <th>logSalePrice</th>\n",
       "      <th>lotSize</th>\n",
       "      <th>longitude</th>\n",
       "      <th>latitude</th>\n",
       "      <th>saleQtr</th>\n",
       "      <th>infRate</th>\n",
       "      <th>postCode</th>\n",
       "      <th>crimeDensity</th>\n",
       "      <th>crimeRate</th>\n",
       "      <th>income</th>\n",
       "      <th>...</th>\n",
       "      <th>neph</th>\n",
       "      <th>PM10</th>\n",
       "      <th>SO2</th>\n",
       "      <th>distToAmbulance</th>\n",
       "      <th>distToFactory</th>\n",
       "      <th>distToFerry</th>\n",
       "      <th>distToHospital</th>\n",
       "      <th>distToMedical</th>\n",
       "      <th>distToSchool</th>\n",
       "      <th>distToUniversity</th>\n",
       "    </tr>\n",
       "  </thead>\n",
       "  <tbody>\n",
       "    <tr>\n",
       "      <th>count</th>\n",
       "      <td>37676</td>\n",
       "      <td>37676</td>\n",
       "      <td>37676</td>\n",
       "      <td>37676</td>\n",
       "      <td>37676</td>\n",
       "      <td>37676</td>\n",
       "      <td>37676</td>\n",
       "      <td>37676</td>\n",
       "      <td>37676</td>\n",
       "      <td>37676</td>\n",
       "      <td>...</td>\n",
       "      <td>37676</td>\n",
       "      <td>37676</td>\n",
       "      <td>37676</td>\n",
       "      <td>37676</td>\n",
       "      <td>37676</td>\n",
       "      <td>37676</td>\n",
       "      <td>37676</td>\n",
       "      <td>37676</td>\n",
       "      <td>37676</td>\n",
       "      <td>37676</td>\n",
       "    </tr>\n",
       "    <tr>\n",
       "      <th>mean</th>\n",
       "      <td>13</td>\n",
       "      <td>693</td>\n",
       "      <td>151</td>\n",
       "      <td>-33</td>\n",
       "      <td>2</td>\n",
       "      <td>0</td>\n",
       "      <td>2256</td>\n",
       "      <td>390</td>\n",
       "      <td>0</td>\n",
       "      <td>1122</td>\n",
       "      <td>...</td>\n",
       "      <td>0</td>\n",
       "      <td>18</td>\n",
       "      <td>0</td>\n",
       "      <td>3</td>\n",
       "      <td>4</td>\n",
       "      <td>11</td>\n",
       "      <td>2</td>\n",
       "      <td>1</td>\n",
       "      <td>0</td>\n",
       "      <td>2</td>\n",
       "    </tr>\n",
       "    <tr>\n",
       "      <th>std</th>\n",
       "      <td>0</td>\n",
       "      <td>175</td>\n",
       "      <td>0</td>\n",
       "      <td>0</td>\n",
       "      <td>1</td>\n",
       "      <td>0</td>\n",
       "      <td>243</td>\n",
       "      <td>485</td>\n",
       "      <td>0</td>\n",
       "      <td>338</td>\n",
       "      <td>...</td>\n",
       "      <td>0</td>\n",
       "      <td>1</td>\n",
       "      <td>0</td>\n",
       "      <td>2</td>\n",
       "      <td>2</td>\n",
       "      <td>9</td>\n",
       "      <td>1</td>\n",
       "      <td>1</td>\n",
       "      <td>0</td>\n",
       "      <td>2</td>\n",
       "    </tr>\n",
       "    <tr>\n",
       "      <th>min</th>\n",
       "      <td>11</td>\n",
       "      <td>400</td>\n",
       "      <td>150</td>\n",
       "      <td>-34</td>\n",
       "      <td>1</td>\n",
       "      <td>0</td>\n",
       "      <td>2007</td>\n",
       "      <td>1</td>\n",
       "      <td>0</td>\n",
       "      <td>259</td>\n",
       "      <td>...</td>\n",
       "      <td>0</td>\n",
       "      <td>15</td>\n",
       "      <td>0</td>\n",
       "      <td>0</td>\n",
       "      <td>0</td>\n",
       "      <td>0</td>\n",
       "      <td>0</td>\n",
       "      <td>0</td>\n",
       "      <td>0</td>\n",
       "      <td>0</td>\n",
       "    </tr>\n",
       "    <tr>\n",
       "      <th>25%</th>\n",
       "      <td>12</td>\n",
       "      <td>578</td>\n",
       "      <td>150</td>\n",
       "      <td>-33</td>\n",
       "      <td>2</td>\n",
       "      <td>0</td>\n",
       "      <td>2100</td>\n",
       "      <td>90</td>\n",
       "      <td>0</td>\n",
       "      <td>874</td>\n",
       "      <td>...</td>\n",
       "      <td>0</td>\n",
       "      <td>16</td>\n",
       "      <td>0</td>\n",
       "      <td>1</td>\n",
       "      <td>2</td>\n",
       "      <td>5</td>\n",
       "      <td>1</td>\n",
       "      <td>0</td>\n",
       "      <td>0</td>\n",
       "      <td>1</td>\n",
       "    </tr>\n",
       "    <tr>\n",
       "      <th>50%</th>\n",
       "      <td>13</td>\n",
       "      <td>664</td>\n",
       "      <td>151</td>\n",
       "      <td>-33</td>\n",
       "      <td>3</td>\n",
       "      <td>0</td>\n",
       "      <td>2161</td>\n",
       "      <td>220</td>\n",
       "      <td>0</td>\n",
       "      <td>1100</td>\n",
       "      <td>...</td>\n",
       "      <td>0</td>\n",
       "      <td>18</td>\n",
       "      <td>0</td>\n",
       "      <td>3</td>\n",
       "      <td>3</td>\n",
       "      <td>9</td>\n",
       "      <td>2</td>\n",
       "      <td>1</td>\n",
       "      <td>0</td>\n",
       "      <td>2</td>\n",
       "    </tr>\n",
       "    <tr>\n",
       "      <th>75%</th>\n",
       "      <td>13</td>\n",
       "      <td>760</td>\n",
       "      <td>151</td>\n",
       "      <td>-33</td>\n",
       "      <td>4</td>\n",
       "      <td>0</td>\n",
       "      <td>2230</td>\n",
       "      <td>545</td>\n",
       "      <td>0</td>\n",
       "      <td>1341</td>\n",
       "      <td>...</td>\n",
       "      <td>0</td>\n",
       "      <td>19</td>\n",
       "      <td>0</td>\n",
       "      <td>4</td>\n",
       "      <td>5</td>\n",
       "      <td>15</td>\n",
       "      <td>3</td>\n",
       "      <td>2</td>\n",
       "      <td>1</td>\n",
       "      <td>3</td>\n",
       "    </tr>\n",
       "    <tr>\n",
       "      <th>max</th>\n",
       "      <td>16</td>\n",
       "      <td>2000</td>\n",
       "      <td>151</td>\n",
       "      <td>-33</td>\n",
       "      <td>4</td>\n",
       "      <td>0</td>\n",
       "      <td>2770</td>\n",
       "      <td>6102</td>\n",
       "      <td>1</td>\n",
       "      <td>2000</td>\n",
       "      <td>...</td>\n",
       "      <td>0</td>\n",
       "      <td>20</td>\n",
       "      <td>0</td>\n",
       "      <td>17</td>\n",
       "      <td>20</td>\n",
       "      <td>55</td>\n",
       "      <td>17</td>\n",
       "      <td>22</td>\n",
       "      <td>13</td>\n",
       "      <td>22</td>\n",
       "    </tr>\n",
       "  </tbody>\n",
       "</table>\n",
       "<p>8 rows × 38 columns</p>\n",
       "</div>"
      ],
      "text/plain": [
       "       logSalePrice  lotSize  longitude  latitude  saleQtr  infRate  postCode  \\\n",
       "count         37676    37676      37676     37676    37676    37676     37676   \n",
       "mean             13      693        151       -33        2        0      2256   \n",
       "std               0      175          0         0        1        0       243   \n",
       "min              11      400        150       -34        1        0      2007   \n",
       "25%              12      578        150       -33        2        0      2100   \n",
       "50%              13      664        151       -33        3        0      2161   \n",
       "75%              13      760        151       -33        4        0      2230   \n",
       "max              16     2000        151       -33        4        0      2770   \n",
       "\n",
       "       crimeDensity  crimeRate  income  ...   neph   PM10    SO2  \\\n",
       "count         37676      37676   37676  ...  37676  37676  37676   \n",
       "mean            390          0    1122  ...      0     18      0   \n",
       "std             485          0     338  ...      0      1      0   \n",
       "min               1          0     259  ...      0     15      0   \n",
       "25%              90          0     874  ...      0     16      0   \n",
       "50%             220          0    1100  ...      0     18      0   \n",
       "75%             545          0    1341  ...      0     19      0   \n",
       "max            6102          1    2000  ...      0     20      0   \n",
       "\n",
       "       distToAmbulance  distToFactory  distToFerry  distToHospital  \\\n",
       "count            37676          37676        37676           37676   \n",
       "mean                 3              4           11               2   \n",
       "std                  2              2            9               1   \n",
       "min                  0              0            0               0   \n",
       "25%                  1              2            5               1   \n",
       "50%                  3              3            9               2   \n",
       "75%                  4              5           15               3   \n",
       "max                 17             20           55              17   \n",
       "\n",
       "       distToMedical  distToSchool  distToUniversity  \n",
       "count          37676         37676             37676  \n",
       "mean               1             0                 2  \n",
       "std                1             0                 2  \n",
       "min                0             0                 0  \n",
       "25%                0             0                 1  \n",
       "50%                1             0                 2  \n",
       "75%                2             1                 3  \n",
       "max               22            13                22  \n",
       "\n",
       "[8 rows x 38 columns]"
      ]
     },
     "execution_count": 4,
     "metadata": {},
     "output_type": "execute_result"
    }
   ],
   "source": [
    "# overview of data\n",
    "sydney.describe().astype(int)\n"
   ]
  },
  {
   "cell_type": "code",
   "execution_count": 5,
   "id": "05e1d4e5",
   "metadata": {},
   "outputs": [
    {
     "data": {
      "image/png": "[encoded data removed]",
      "text/plain": [
       "<Figure size 432x288 with 1 Axes>"
      ]
     },
     "metadata": {
      "needs_background": "light"
     },
     "output_type": "display_data"
    }
   ],
   "source": [
    "# plot the distribution of the response variable logSalePrice\n",
    "plt.hist(sydney.logSalePrice, bins=40, edgecolor='black')\n",
    "plt.title(\"Distribution of logSalePrice\")\n",
    "plt.xlabel(\"logSalePrice\")\n",
    "plt.ylabel(\"Frequency\")\n",
    "plt.show()\n"
   ]
  },
  {
   "cell_type": "code",
   "execution_count": 6,
   "id": "3fd2b68a",
   "metadata": {},
   "outputs": [
    {
     "data": {
      "image/png": "[encoded data removed]",
      "text/plain": [
       "<Figure size 432x288 with 1 Axes>"
      ]
     },
     "metadata": {
      "needs_background": "light"
     },
     "output_type": "display_data"
    }
   ],
   "source": [
    "# plot the distribution of lotSize\n",
    "plt.hist(sydney.lotSize, bins=40, edgecolor='black')\n",
    "plt.title(\"Distribution of lotSize\")\n",
    "plt.xlabel(\"lotSize\")\n",
    "plt.ylabel(\"Frequency\")\n",
    "plt.show()\n"
   ]
  },
  {
   "cell_type": "code",
   "execution_count": 7,
   "id": "e8d6783b",
   "metadata": {},
   "outputs": [
    {
     "data": {
      "image/png": "[encoded data removed]",
      "text/plain": [
       "<Figure size 432x288 with 1 Axes>"
      ]
     },
     "metadata": {
      "needs_background": "light"
     },
     "output_type": "display_data"
    }
   ],
   "source": [
    "# plot the distribution of saleQtr\n",
    "plt.hist(sydney.saleQtr, bins=20, edgecolor='black')\n",
    "plt.title(\"Distribution of saleQtr\")\n",
    "plt.xlabel(\"saleQtr\")\n",
    "plt.ylabel(\"Frequency\")\n",
    "plt.show()\n"
   ]
  },
  {
   "cell_type": "code",
   "execution_count": 8,
   "id": "62e26a4e",
   "metadata": {},
   "outputs": [
    {
     "data": {
      "image/png": "[encoded data removed]",
      "text/plain": [
       "<Figure size 1440x1440 with 42 Axes>"
      ]
     },
     "metadata": {
      "needs_background": "light"
     },
     "output_type": "display_data"
    }
   ],
   "source": [
    "# a plot of all variables\n",
    "sydney.hist(figsize=(20, 20), edgecolor='black')\n",
    "plt.show()\n"
   ]
  },
  {
   "cell_type": "markdown",
   "id": "bb3f1359",
   "metadata": {},
   "source": [
    "### 2.4 Verify the data quality"
   ]
  },
  {
   "cell_type": "code",
   "execution_count": 9,
   "id": "58f0f47e",
   "metadata": {},
   "outputs": [
    {
     "name": "stdout",
     "output_type": "stream",
     "text": [
      "<class 'pandas.core.frame.DataFrame'>\n",
      "RangeIndex: 37676 entries, 0 to 37675\n",
      "Data columns (total 39 columns):\n",
      " #   Column              Non-Null Count  Dtype  \n",
      "---  ------              --------------  -----  \n",
      " 0   logSalePrice        37676 non-null  float64\n",
      " 1   lotSize             37676 non-null  float64\n",
      " 2   longitude           37676 non-null  float64\n",
      " 3   latitude            37676 non-null  float64\n",
      " 4   saleDate            37676 non-null  object \n",
      " 5   saleQtr             37676 non-null  int64  \n",
      " 6   infRate             37676 non-null  float64\n",
      " 7   postCode            37676 non-null  int64  \n",
      " 8   crimeDensity        37676 non-null  float64\n",
      " 9   crimeRate           37676 non-null  float64\n",
      " 10  income              37676 non-null  int64  \n",
      " 11  distToBusStop       30169 non-null  float64\n",
      " 12  distToCoastline     27885 non-null  float64\n",
      " 13  distToNatPark       37676 non-null  float64\n",
      " 14  distToPark          37676 non-null  float64\n",
      " 15  distToRailLine      37676 non-null  float64\n",
      " 16  distToRailStation   37676 non-null  float64\n",
      " 17  distToHighway       37676 non-null  float64\n",
      " 18  distToFreeway       37676 non-null  float64\n",
      " 19  distToTunnel        37676 non-null  float64\n",
      " 20  distToMainRoad      37676 non-null  float64\n",
      " 21  distToSealedRoad    37676 non-null  float64\n",
      " 22  distToUnsealedRoad  37676 non-null  float64\n",
      " 23  airNoise            37676 non-null  int64  \n",
      " 24  foreignerRatio      37676 non-null  float64\n",
      " 25  distToGPO           37676 non-null  float64\n",
      " 26  NO                  37676 non-null  float64\n",
      " 27  NO2                 37676 non-null  float64\n",
      " 28  ozone               37676 non-null  float64\n",
      " 29  neph                37676 non-null  float64\n",
      " 30  PM10                37676 non-null  float64\n",
      " 31  SO2                 37676 non-null  float64\n",
      " 32  distToAmbulance     37676 non-null  float64\n",
      " 33  distToFactory       37676 non-null  float64\n",
      " 34  distToFerry         37676 non-null  float64\n",
      " 35  distToHospital      37676 non-null  float64\n",
      " 36  distToMedical       37676 non-null  float64\n",
      " 37  distToSchool        37676 non-null  float64\n",
      " 38  distToUniversity    37676 non-null  float64\n",
      "dtypes: float64(34), int64(4), object(1)\n",
      "memory usage: 11.2+ MB\n"
     ]
    }
   ],
   "source": [
    "sydney.info()\n"
   ]
  },
  {
   "cell_type": "code",
   "execution_count": 10,
   "id": "b0c3c0f8",
   "metadata": {},
   "outputs": [
    {
     "data": {
      "text/plain": [
       "logSalePrice             0\n",
       "lotSize                  0\n",
       "longitude                0\n",
       "latitude                 0\n",
       "saleDate                 0\n",
       "saleQtr                  0\n",
       "infRate                  0\n",
       "postCode                 0\n",
       "crimeDensity             0\n",
       "crimeRate                0\n",
       "income                   0\n",
       "distToBusStop         7507\n",
       "distToCoastline       9791\n",
       "distToNatPark            0\n",
       "distToPark               0\n",
       "distToRailLine           0\n",
       "distToRailStation        0\n",
       "distToHighway            0\n",
       "distToFreeway            0\n",
       "distToTunnel             0\n",
       "distToMainRoad           0\n",
       "distToSealedRoad         0\n",
       "distToUnsealedRoad       0\n",
       "airNoise                 0\n",
       "foreignerRatio           0\n",
       "distToGPO                0\n",
       "NO                       0\n",
       "NO2                      0\n",
       "ozone                    0\n",
       "neph                     0\n",
       "PM10                     0\n",
       "SO2                      0\n",
       "distToAmbulance          0\n",
       "distToFactory            0\n",
       "distToFerry              0\n",
       "distToHospital           0\n",
       "distToMedical            0\n",
       "distToSchool             0\n",
       "distToUniversity         0\n",
       "dtype: int64"
      ]
     },
     "execution_count": 10,
     "metadata": {},
     "output_type": "execute_result"
    }
   ],
   "source": [
    "# check for missing values\n",
    "sydney.isnull().sum()\n"
   ]
  },
  {
   "cell_type": "code",
   "execution_count": 11,
   "id": "6bdf94b7",
   "metadata": {},
   "outputs": [
    {
     "data": {
      "text/plain": [
       "{'whiskers': [<matplotlib.lines.Line2D at 0x7f92a0e6d750>,\n",
       "  <matplotlib.lines.Line2D at 0x7f92a0e6da20>],\n",
       " 'caps': [<matplotlib.lines.Line2D at 0x7f92a0e6dcf0>,\n",
       "  <matplotlib.lines.Line2D at 0x7f92a0e6dfc0>],\n",
       " 'boxes': [<matplotlib.lines.Line2D at 0x7f92a0e6d480>],\n",
       " 'medians': [<matplotlib.lines.Line2D at 0x7f92a0e6e290>],\n",
       " 'fliers': [<matplotlib.lines.Line2D at 0x7f92a0e6e560>],\n",
       " 'means': []}"
      ]
     },
     "execution_count": 11,
     "metadata": {},
     "output_type": "execute_result"
    },
    {
     "data": {
      "image/png": "[encoded data removed]",
      "text/plain": [
       "<Figure size 432x288 with 1 Axes>"
      ]
     },
     "metadata": {
      "needs_background": "light"
     },
     "output_type": "display_data"
    }
   ],
   "source": [
    "# plot outliers in logSalePrice\n",
    "plt.boxplot(sydney.logSalePrice)\n"
   ]
  },
  {
   "cell_type": "markdown",
   "id": "48fbd22b",
   "metadata": {},
   "source": [
    "### 3.1 Select the data"
   ]
  },
  {
   "cell_type": "code",
   "execution_count": 12,
   "id": "670e7509",
   "metadata": {},
   "outputs": [
    {
     "data": {
      "text/plain": [
       "(37676, 39)"
      ]
     },
     "execution_count": 12,
     "metadata": {},
     "output_type": "execute_result"
    }
   ],
   "source": [
    "# dimensions of data\n",
    "sydney.shape\n"
   ]
  },
  {
   "cell_type": "code",
   "execution_count": 13,
   "id": "f79dedee",
   "metadata": {},
   "outputs": [
    {
     "data": {
      "text/plain": [
       "(37676, 37)"
      ]
     },
     "execution_count": 13,
     "metadata": {},
     "output_type": "execute_result"
    }
   ],
   "source": [
    "# drop saleDate and postCode from sydney data\n",
    "sydney = sydney.drop(['saleDate', 'postCode'], axis=1)\n",
    "\n",
    "# dimensions of data now\n",
    "sydney.shape\n"
   ]
  },
  {
   "cell_type": "markdown",
   "id": "b64671bb",
   "metadata": {},
   "source": [
    "### 3.2 Clean the data"
   ]
  },
  {
   "cell_type": "code",
   "execution_count": 14,
   "id": "8734763f",
   "metadata": {},
   "outputs": [
    {
     "data": {
      "text/plain": [
       "logSalePrice          0\n",
       "lotSize               0\n",
       "longitude             0\n",
       "latitude              0\n",
       "saleQtr               0\n",
       "infRate               0\n",
       "crimeDensity          0\n",
       "crimeRate             0\n",
       "income                0\n",
       "distToBusStop         0\n",
       "distToCoastline       0\n",
       "distToNatPark         0\n",
       "distToPark            0\n",
       "distToRailLine        0\n",
       "distToRailStation     0\n",
       "distToHighway         0\n",
       "distToFreeway         0\n",
       "distToTunnel          0\n",
       "distToMainRoad        0\n",
       "distToSealedRoad      0\n",
       "distToUnsealedRoad    0\n",
       "airNoise              0\n",
       "foreignerRatio        0\n",
       "distToGPO             0\n",
       "NO                    0\n",
       "NO2                   0\n",
       "ozone                 0\n",
       "neph                  0\n",
       "PM10                  0\n",
       "SO2                   0\n",
       "distToAmbulance       0\n",
       "distToFactory         0\n",
       "distToFerry           0\n",
       "distToHospital        0\n",
       "distToMedical         0\n",
       "distToSchool          0\n",
       "distToUniversity      0\n",
       "dtype: int64"
      ]
     },
     "execution_count": 14,
     "metadata": {},
     "output_type": "execute_result"
    }
   ],
   "source": [
    "# Using IterativeImputer in sklearn to handle the missing values, with initial_strategy='median'.\n",
    "imputer = IterativeImputer(\n",
    "    missing_values=np.nan, max_iter=12, initial_strategy='median', random_state=1234)\n",
    "\n",
    "# Fit to data, then transform it.\n",
    "imputer.fit(sydney)\n",
    "sydney_imp = imputer.transform(sydney)\n",
    "\n",
    "# convert to dataframe\n",
    "sydney_imp = pd.DataFrame(sydney_imp, columns=sydney.columns)\n",
    "# check for missing values\n",
    "sydney_imp.isnull().sum()\n"
   ]
  },
  {
   "cell_type": "code",
   "execution_count": 15,
   "id": "b85ff283",
   "metadata": {},
   "outputs": [
    {
     "data": {
      "text/plain": [
       "(24754, 37)"
      ]
     },
     "execution_count": 15,
     "metadata": {},
     "output_type": "execute_result"
    }
   ],
   "source": [
    "# remove outliers: 3 standard deviations from the mean\n",
    "for col in sydney_imp.columns:\n",
    "    sydney_imp = sydney_imp[np.abs(\n",
    "        sydney_imp[col]-sydney_imp[col].mean()) <= (3*sydney_imp[col].std())]\n",
    "\n",
    "# dimensions of data now\n",
    "sydney_imp.shape\n"
   ]
  },
  {
   "cell_type": "markdown",
   "id": "6e08447b",
   "metadata": {},
   "source": [
    "### 3.3 Construct the data"
   ]
  },
  {
   "cell_type": "code",
   "execution_count": 16,
   "id": "fb263fec",
   "metadata": {},
   "outputs": [
    {
     "data": {
      "text/plain": [
       "0     1205.699868\n",
       "3      173.343432\n",
       "6      173.343432\n",
       "7      439.778707\n",
       "8      313.302200\n",
       "9      436.568643\n",
       "10     526.450422\n",
       "12     972.007238\n",
       "15     975.859314\n",
       "16    1990.239398\n",
       "Name: SalePrice, dtype: float64"
      ]
     },
     "execution_count": 16,
     "metadata": {},
     "output_type": "execute_result"
    }
   ],
   "source": [
    "# add new column SalePrice\n",
    "# SalePrice = exp(logSalePrice)/1000\n",
    "sydney_imp['SalePrice'] = np.exp(sydney_imp['logSalePrice'])/1000\n",
    "sydney_imp['SalePrice'].head(10)\n"
   ]
  },
  {
   "cell_type": "code",
   "execution_count": 17,
   "id": "b378e6b6",
   "metadata": {},
   "outputs": [
    {
     "data": {
      "image/png": "[encoded data removed]",
      "text/plain": [
       "<Figure size 432x288 with 1 Axes>"
      ]
     },
     "metadata": {
      "needs_background": "light"
     },
     "output_type": "display_data"
    }
   ],
   "source": [
    "# plot SalePrice vs logSalePrice\n",
    "plt.scatter(sydney_imp['logSalePrice'], sydney_imp['SalePrice'])\n",
    "plt.title(\"SalePrice vs logSalePrice\")\n",
    "plt.xlabel(\"logSalePrice\")\n",
    "plt.ylabel(\"SalePrice(in $1000)\")\n",
    "plt.show()\n"
   ]
  },
  {
   "cell_type": "markdown",
   "id": "0e6e48c3",
   "metadata": {},
   "source": [
    "### 3.4 Integrate various data sources"
   ]
  },
  {
   "cell_type": "code",
   "execution_count": 18,
   "id": "6dc841b1",
   "metadata": {},
   "outputs": [
    {
     "data": {
      "text/html": [
       "<div>\n",
       "<style scoped>\n",
       "    .dataframe tbody tr th:only-of-type {\n",
       "        vertical-align: middle;\n",
       "    }\n",
       "\n",
       "    .dataframe tbody tr th {\n",
       "        vertical-align: top;\n",
       "    }\n",
       "\n",
       "    .dataframe thead th {\n",
       "        text-align: right;\n",
       "    }\n",
       "</style>\n",
       "<table border=\"1\" class=\"dataframe\">\n",
       "  <thead>\n",
       "    <tr style=\"text-align: right;\">\n",
       "      <th></th>\n",
       "      <th>logSalePrice</th>\n",
       "      <th>lotSize</th>\n",
       "      <th>longitude</th>\n",
       "      <th>latitude</th>\n",
       "      <th>saleQtr</th>\n",
       "      <th>infRate</th>\n",
       "      <th>postCode</th>\n",
       "      <th>crimeDensity</th>\n",
       "      <th>crimeRate</th>\n",
       "      <th>income</th>\n",
       "      <th>...</th>\n",
       "      <th>neph</th>\n",
       "      <th>PM10</th>\n",
       "      <th>SO2</th>\n",
       "      <th>distToAmbulance</th>\n",
       "      <th>distToFactory</th>\n",
       "      <th>distToFerry</th>\n",
       "      <th>distToHospital</th>\n",
       "      <th>distToMedical</th>\n",
       "      <th>distToSchool</th>\n",
       "      <th>distToUniversity</th>\n",
       "    </tr>\n",
       "  </thead>\n",
       "  <tbody>\n",
       "    <tr>\n",
       "      <th>count</th>\n",
       "      <td>37676</td>\n",
       "      <td>37676</td>\n",
       "      <td>37676</td>\n",
       "      <td>37676</td>\n",
       "      <td>37676</td>\n",
       "      <td>37676</td>\n",
       "      <td>37676</td>\n",
       "      <td>37676</td>\n",
       "      <td>37676</td>\n",
       "      <td>37676</td>\n",
       "      <td>...</td>\n",
       "      <td>37676</td>\n",
       "      <td>37676</td>\n",
       "      <td>37676</td>\n",
       "      <td>37676</td>\n",
       "      <td>37676</td>\n",
       "      <td>37676</td>\n",
       "      <td>37676</td>\n",
       "      <td>37676</td>\n",
       "      <td>37676</td>\n",
       "      <td>37676</td>\n",
       "    </tr>\n",
       "    <tr>\n",
       "      <th>mean</th>\n",
       "      <td>13</td>\n",
       "      <td>693</td>\n",
       "      <td>151</td>\n",
       "      <td>-33</td>\n",
       "      <td>2</td>\n",
       "      <td>0</td>\n",
       "      <td>2256</td>\n",
       "      <td>390</td>\n",
       "      <td>0</td>\n",
       "      <td>1122</td>\n",
       "      <td>...</td>\n",
       "      <td>0</td>\n",
       "      <td>18</td>\n",
       "      <td>0</td>\n",
       "      <td>3</td>\n",
       "      <td>4</td>\n",
       "      <td>11</td>\n",
       "      <td>2</td>\n",
       "      <td>1</td>\n",
       "      <td>0</td>\n",
       "      <td>2</td>\n",
       "    </tr>\n",
       "    <tr>\n",
       "      <th>std</th>\n",
       "      <td>0</td>\n",
       "      <td>175</td>\n",
       "      <td>0</td>\n",
       "      <td>0</td>\n",
       "      <td>1</td>\n",
       "      <td>0</td>\n",
       "      <td>243</td>\n",
       "      <td>485</td>\n",
       "      <td>0</td>\n",
       "      <td>338</td>\n",
       "      <td>...</td>\n",
       "      <td>0</td>\n",
       "      <td>1</td>\n",
       "      <td>0</td>\n",
       "      <td>2</td>\n",
       "      <td>2</td>\n",
       "      <td>9</td>\n",
       "      <td>1</td>\n",
       "      <td>1</td>\n",
       "      <td>0</td>\n",
       "      <td>2</td>\n",
       "    </tr>\n",
       "    <tr>\n",
       "      <th>min</th>\n",
       "      <td>11</td>\n",
       "      <td>400</td>\n",
       "      <td>150</td>\n",
       "      <td>-34</td>\n",
       "      <td>1</td>\n",
       "      <td>0</td>\n",
       "      <td>2007</td>\n",
       "      <td>1</td>\n",
       "      <td>0</td>\n",
       "      <td>259</td>\n",
       "      <td>...</td>\n",
       "      <td>0</td>\n",
       "      <td>15</td>\n",
       "      <td>0</td>\n",
       "      <td>0</td>\n",
       "      <td>0</td>\n",
       "      <td>0</td>\n",
       "      <td>0</td>\n",
       "      <td>0</td>\n",
       "      <td>0</td>\n",
       "      <td>0</td>\n",
       "    </tr>\n",
       "    <tr>\n",
       "      <th>25%</th>\n",
       "      <td>12</td>\n",
       "      <td>578</td>\n",
       "      <td>150</td>\n",
       "      <td>-33</td>\n",
       "      <td>2</td>\n",
       "      <td>0</td>\n",
       "      <td>2100</td>\n",
       "      <td>90</td>\n",
       "      <td>0</td>\n",
       "      <td>874</td>\n",
       "      <td>...</td>\n",
       "      <td>0</td>\n",
       "      <td>16</td>\n",
       "      <td>0</td>\n",
       "      <td>1</td>\n",
       "      <td>2</td>\n",
       "      <td>5</td>\n",
       "      <td>1</td>\n",
       "      <td>0</td>\n",
       "      <td>0</td>\n",
       "      <td>1</td>\n",
       "    </tr>\n",
       "    <tr>\n",
       "      <th>50%</th>\n",
       "      <td>13</td>\n",
       "      <td>664</td>\n",
       "      <td>151</td>\n",
       "      <td>-33</td>\n",
       "      <td>3</td>\n",
       "      <td>0</td>\n",
       "      <td>2161</td>\n",
       "      <td>220</td>\n",
       "      <td>0</td>\n",
       "      <td>1100</td>\n",
       "      <td>...</td>\n",
       "      <td>0</td>\n",
       "      <td>18</td>\n",
       "      <td>0</td>\n",
       "      <td>3</td>\n",
       "      <td>3</td>\n",
       "      <td>9</td>\n",
       "      <td>2</td>\n",
       "      <td>1</td>\n",
       "      <td>0</td>\n",
       "      <td>2</td>\n",
       "    </tr>\n",
       "    <tr>\n",
       "      <th>75%</th>\n",
       "      <td>13</td>\n",
       "      <td>760</td>\n",
       "      <td>151</td>\n",
       "      <td>-33</td>\n",
       "      <td>4</td>\n",
       "      <td>0</td>\n",
       "      <td>2230</td>\n",
       "      <td>545</td>\n",
       "      <td>0</td>\n",
       "      <td>1341</td>\n",
       "      <td>...</td>\n",
       "      <td>0</td>\n",
       "      <td>19</td>\n",
       "      <td>0</td>\n",
       "      <td>4</td>\n",
       "      <td>5</td>\n",
       "      <td>15</td>\n",
       "      <td>3</td>\n",
       "      <td>2</td>\n",
       "      <td>1</td>\n",
       "      <td>3</td>\n",
       "    </tr>\n",
       "    <tr>\n",
       "      <th>max</th>\n",
       "      <td>16</td>\n",
       "      <td>2000</td>\n",
       "      <td>151</td>\n",
       "      <td>-33</td>\n",
       "      <td>4</td>\n",
       "      <td>0</td>\n",
       "      <td>2770</td>\n",
       "      <td>6102</td>\n",
       "      <td>1</td>\n",
       "      <td>2000</td>\n",
       "      <td>...</td>\n",
       "      <td>0</td>\n",
       "      <td>20</td>\n",
       "      <td>0</td>\n",
       "      <td>17</td>\n",
       "      <td>20</td>\n",
       "      <td>55</td>\n",
       "      <td>17</td>\n",
       "      <td>22</td>\n",
       "      <td>13</td>\n",
       "      <td>22</td>\n",
       "    </tr>\n",
       "  </tbody>\n",
       "</table>\n",
       "<p>8 rows × 38 columns</p>\n",
       "</div>"
      ],
      "text/plain": [
       "       logSalePrice  lotSize  longitude  latitude  saleQtr  infRate  postCode  \\\n",
       "count         37676    37676      37676     37676    37676    37676     37676   \n",
       "mean             13      693        151       -33        2        0      2256   \n",
       "std               0      175          0         0        1        0       243   \n",
       "min              11      400        150       -34        1        0      2007   \n",
       "25%              12      578        150       -33        2        0      2100   \n",
       "50%              13      664        151       -33        3        0      2161   \n",
       "75%              13      760        151       -33        4        0      2230   \n",
       "max              16     2000        151       -33        4        0      2770   \n",
       "\n",
       "       crimeDensity  crimeRate  income  ...   neph   PM10    SO2  \\\n",
       "count         37676      37676   37676  ...  37676  37676  37676   \n",
       "mean            390          0    1122  ...      0     18      0   \n",
       "std             485          0     338  ...      0      1      0   \n",
       "min               1          0     259  ...      0     15      0   \n",
       "25%              90          0     874  ...      0     16      0   \n",
       "50%             220          0    1100  ...      0     18      0   \n",
       "75%             545          0    1341  ...      0     19      0   \n",
       "max            6102          1    2000  ...      0     20      0   \n",
       "\n",
       "       distToAmbulance  distToFactory  distToFerry  distToHospital  \\\n",
       "count            37676          37676        37676           37676   \n",
       "mean                 3              4           11               2   \n",
       "std                  2              2            9               1   \n",
       "min                  0              0            0               0   \n",
       "25%                  1              2            5               1   \n",
       "50%                  3              3            9               2   \n",
       "75%                  4              5           15               3   \n",
       "max                 17             20           55              17   \n",
       "\n",
       "       distToMedical  distToSchool  distToUniversity  \n",
       "count          37676         37676             37676  \n",
       "mean               1             0                 2  \n",
       "std                1             0                 2  \n",
       "min                0             0                 0  \n",
       "25%                0             0                 1  \n",
       "50%                1             0                 2  \n",
       "75%                2             1                 3  \n",
       "max               22            13                22  \n",
       "\n",
       "[8 rows x 38 columns]"
      ]
     },
     "execution_count": 18,
     "metadata": {},
     "output_type": "execute_result"
    }
   ],
   "source": [
    "# import 2 new datasets\n",
    "sydpart1 = pd.read_csv(\"SydneyEstateNa1.csv\", sep=',', header='infer')\n",
    "sydpart2 = pd.read_csv(\"SydneyEstateNa2.csv\", sep=',', header='infer')\n",
    "\n",
    "# merge 2 datasets\n",
    "sydney_merged = pd.concat([sydpart1, sydpart2], axis=0)\n",
    "\n",
    "# drop the first column\n",
    "sydney_merged = sydney_merged.drop(sydney_merged.columns[0], axis=1)\n",
    "\n",
    "# overview of sydney_merged\n",
    "sydney_merged.describe().astype(int)\n"
   ]
  },
  {
   "cell_type": "markdown",
   "id": "0d79eea6",
   "metadata": {},
   "source": [
    "### 3.5 Format the data as required"
   ]
  },
  {
   "cell_type": "code",
   "execution_count": 19,
   "id": "58084eb2",
   "metadata": {},
   "outputs": [
    {
     "name": "stdout",
     "output_type": "stream",
     "text": [
      "<class 'pandas.core.frame.DataFrame'>\n",
      "Int64Index: 24754 entries, 0 to 37675\n",
      "Data columns (total 38 columns):\n",
      " #   Column              Non-Null Count  Dtype   \n",
      "---  ------              --------------  -----   \n",
      " 0   logSalePrice        24754 non-null  float64 \n",
      " 1   lotSize             24754 non-null  float64 \n",
      " 2   longitude           24754 non-null  float64 \n",
      " 3   latitude            24754 non-null  float64 \n",
      " 4   saleQtr             24754 non-null  category\n",
      " 5   infRate             24754 non-null  float64 \n",
      " 6   crimeDensity        24754 non-null  float64 \n",
      " 7   crimeRate           24754 non-null  float64 \n",
      " 8   income              24754 non-null  float64 \n",
      " 9   distToBusStop       24754 non-null  float64 \n",
      " 10  distToCoastline     24754 non-null  float64 \n",
      " 11  distToNatPark       24754 non-null  float64 \n",
      " 12  distToPark          24754 non-null  float64 \n",
      " 13  distToRailLine      24754 non-null  float64 \n",
      " 14  distToRailStation   24754 non-null  float64 \n",
      " 15  distToHighway       24754 non-null  float64 \n",
      " 16  distToFreeway       24754 non-null  float64 \n",
      " 17  distToTunnel        24754 non-null  float64 \n",
      " 18  distToMainRoad      24754 non-null  float64 \n",
      " 19  distToSealedRoad    24754 non-null  float64 \n",
      " 20  distToUnsealedRoad  24754 non-null  float64 \n",
      " 21  airNoise            24754 non-null  float64 \n",
      " 22  foreignerRatio      24754 non-null  float64 \n",
      " 23  distToGPO           24754 non-null  float64 \n",
      " 24  NO                  24754 non-null  float64 \n",
      " 25  NO2                 24754 non-null  float64 \n",
      " 26  ozone               24754 non-null  float64 \n",
      " 27  neph                24754 non-null  float64 \n",
      " 28  PM10                24754 non-null  float64 \n",
      " 29  SO2                 24754 non-null  float64 \n",
      " 30  distToAmbulance     24754 non-null  float64 \n",
      " 31  distToFactory       24754 non-null  float64 \n",
      " 32  distToFerry         24754 non-null  float64 \n",
      " 33  distToHospital      24754 non-null  float64 \n",
      " 34  distToMedical       24754 non-null  float64 \n",
      " 35  distToSchool        24754 non-null  float64 \n",
      " 36  distToUniversity    24754 non-null  float64 \n",
      " 37  SalePrice           24754 non-null  float64 \n",
      "dtypes: category(1), float64(37)\n",
      "memory usage: 7.2 MB\n"
     ]
    }
   ],
   "source": [
    "# saleQtr as categorical variable\n",
    "sydney_imp['saleQtr'] = sydney_imp['saleQtr'].astype('category')\n",
    "# check\n",
    "sydney_imp.info()\n"
   ]
  },
  {
   "cell_type": "code",
   "execution_count": 20,
   "id": "49a919d5",
   "metadata": {},
   "outputs": [],
   "source": [
    "# split explanatory and response variables\n",
    "X = sydney_imp.drop(['logSalePrice', 'SalePrice'], axis=1)\n",
    "log_y = sydney_imp['logSalePrice']\n",
    "y = sydney_imp['SalePrice']\n"
   ]
  },
  {
   "cell_type": "code",
   "execution_count": 21,
   "id": "0e7ce890",
   "metadata": {},
   "outputs": [
    {
     "data": {
      "text/html": [
       "<div>\n",
       "<style scoped>\n",
       "    .dataframe tbody tr th:only-of-type {\n",
       "        vertical-align: middle;\n",
       "    }\n",
       "\n",
       "    .dataframe tbody tr th {\n",
       "        vertical-align: top;\n",
       "    }\n",
       "\n",
       "    .dataframe thead th {\n",
       "        text-align: right;\n",
       "    }\n",
       "</style>\n",
       "<table border=\"1\" class=\"dataframe\">\n",
       "  <thead>\n",
       "    <tr style=\"text-align: right;\">\n",
       "      <th></th>\n",
       "      <th>lotSize</th>\n",
       "      <th>longitude</th>\n",
       "      <th>latitude</th>\n",
       "      <th>saleQtr</th>\n",
       "      <th>infRate</th>\n",
       "      <th>crimeDensity</th>\n",
       "      <th>crimeRate</th>\n",
       "      <th>income</th>\n",
       "      <th>distToBusStop</th>\n",
       "      <th>distToCoastline</th>\n",
       "      <th>...</th>\n",
       "      <th>neph</th>\n",
       "      <th>PM10</th>\n",
       "      <th>SO2</th>\n",
       "      <th>distToAmbulance</th>\n",
       "      <th>distToFactory</th>\n",
       "      <th>distToFerry</th>\n",
       "      <th>distToHospital</th>\n",
       "      <th>distToMedical</th>\n",
       "      <th>distToSchool</th>\n",
       "      <th>distToUniversity</th>\n",
       "    </tr>\n",
       "  </thead>\n",
       "  <tbody>\n",
       "    <tr>\n",
       "      <th>0</th>\n",
       "      <td>645.000000</td>\n",
       "      <td>151.081364</td>\n",
       "      <td>-33.881746</td>\n",
       "      <td>3.0</td>\n",
       "      <td>0.131753</td>\n",
       "      <td>658.072048</td>\n",
       "      <td>0.329212</td>\n",
       "      <td>1564.0</td>\n",
       "      <td>0.153313</td>\n",
       "      <td>2.142680</td>\n",
       "      <td>...</td>\n",
       "      <td>0.325014</td>\n",
       "      <td>18.983450</td>\n",
       "      <td>0.116958</td>\n",
       "      <td>3.945106</td>\n",
       "      <td>4.778739</td>\n",
       "      <td>5.579980</td>\n",
       "      <td>1.190414</td>\n",
       "      <td>0.516930</td>\n",
       "      <td>0.229914</td>\n",
       "      <td>0.793934</td>\n",
       "    </tr>\n",
       "    <tr>\n",
       "      <th>3</th>\n",
       "      <td>553.000000</td>\n",
       "      <td>150.815021</td>\n",
       "      <td>-33.732588</td>\n",
       "      <td>2.0</td>\n",
       "      <td>0.003506</td>\n",
       "      <td>220.064407</td>\n",
       "      <td>0.206920</td>\n",
       "      <td>804.0</td>\n",
       "      <td>0.047612</td>\n",
       "      <td>14.127644</td>\n",
       "      <td>...</td>\n",
       "      <td>0.290143</td>\n",
       "      <td>16.855367</td>\n",
       "      <td>0.065339</td>\n",
       "      <td>2.044986</td>\n",
       "      <td>3.058969</td>\n",
       "      <td>20.149325</td>\n",
       "      <td>3.818996</td>\n",
       "      <td>1.297252</td>\n",
       "      <td>0.911597</td>\n",
       "      <td>0.822585</td>\n",
       "    </tr>\n",
       "    <tr>\n",
       "      <th>6</th>\n",
       "      <td>575.000000</td>\n",
       "      <td>150.803617</td>\n",
       "      <td>-33.754383</td>\n",
       "      <td>4.0</td>\n",
       "      <td>0.082403</td>\n",
       "      <td>220.064407</td>\n",
       "      <td>0.206920</td>\n",
       "      <td>504.0</td>\n",
       "      <td>0.122905</td>\n",
       "      <td>13.337931</td>\n",
       "      <td>...</td>\n",
       "      <td>0.290143</td>\n",
       "      <td>16.855367</td>\n",
       "      <td>0.104246</td>\n",
       "      <td>1.319172</td>\n",
       "      <td>1.649167</td>\n",
       "      <td>20.183875</td>\n",
       "      <td>2.672311</td>\n",
       "      <td>1.214924</td>\n",
       "      <td>0.630336</td>\n",
       "      <td>0.623362</td>\n",
       "    </tr>\n",
       "    <tr>\n",
       "      <th>7</th>\n",
       "      <td>700.262571</td>\n",
       "      <td>151.042088</td>\n",
       "      <td>-33.804476</td>\n",
       "      <td>3.0</td>\n",
       "      <td>0.035158</td>\n",
       "      <td>589.112798</td>\n",
       "      <td>0.251134</td>\n",
       "      <td>823.0</td>\n",
       "      <td>0.056877</td>\n",
       "      <td>1.443709</td>\n",
       "      <td>...</td>\n",
       "      <td>0.228423</td>\n",
       "      <td>19.087556</td>\n",
       "      <td>0.116958</td>\n",
       "      <td>5.208205</td>\n",
       "      <td>2.356500</td>\n",
       "      <td>3.097816</td>\n",
       "      <td>1.512533</td>\n",
       "      <td>1.845819</td>\n",
       "      <td>0.464874</td>\n",
       "      <td>1.620972</td>\n",
       "    </tr>\n",
       "    <tr>\n",
       "      <th>8</th>\n",
       "      <td>721.000000</td>\n",
       "      <td>151.035486</td>\n",
       "      <td>-33.865321</td>\n",
       "      <td>4.0</td>\n",
       "      <td>0.023668</td>\n",
       "      <td>573.368191</td>\n",
       "      <td>0.333071</td>\n",
       "      <td>804.0</td>\n",
       "      <td>0.128562</td>\n",
       "      <td>3.420364</td>\n",
       "      <td>...</td>\n",
       "      <td>0.325014</td>\n",
       "      <td>18.983450</td>\n",
       "      <td>0.116958</td>\n",
       "      <td>1.682641</td>\n",
       "      <td>7.225857</td>\n",
       "      <td>6.221853</td>\n",
       "      <td>0.595347</td>\n",
       "      <td>1.058978</td>\n",
       "      <td>0.280087</td>\n",
       "      <td>1.750704</td>\n",
       "    </tr>\n",
       "  </tbody>\n",
       "</table>\n",
       "<p>5 rows × 36 columns</p>\n",
       "</div>"
      ],
      "text/plain": [
       "      lotSize   longitude   latitude saleQtr   infRate  crimeDensity  \\\n",
       "0  645.000000  151.081364 -33.881746     3.0  0.131753    658.072048   \n",
       "3  553.000000  150.815021 -33.732588     2.0  0.003506    220.064407   \n",
       "6  575.000000  150.803617 -33.754383     4.0  0.082403    220.064407   \n",
       "7  700.262571  151.042088 -33.804476     3.0  0.035158    589.112798   \n",
       "8  721.000000  151.035486 -33.865321     4.0  0.023668    573.368191   \n",
       "\n",
       "   crimeRate  income  distToBusStop  distToCoastline  ...      neph  \\\n",
       "0   0.329212  1564.0       0.153313         2.142680  ...  0.325014   \n",
       "3   0.206920   804.0       0.047612        14.127644  ...  0.290143   \n",
       "6   0.206920   504.0       0.122905        13.337931  ...  0.290143   \n",
       "7   0.251134   823.0       0.056877         1.443709  ...  0.228423   \n",
       "8   0.333071   804.0       0.128562         3.420364  ...  0.325014   \n",
       "\n",
       "        PM10       SO2  distToAmbulance  distToFactory  distToFerry  \\\n",
       "0  18.983450  0.116958         3.945106       4.778739     5.579980   \n",
       "3  16.855367  0.065339         2.044986       3.058969    20.149325   \n",
       "6  16.855367  0.104246         1.319172       1.649167    20.183875   \n",
       "7  19.087556  0.116958         5.208205       2.356500     3.097816   \n",
       "8  18.983450  0.116958         1.682641       7.225857     6.221853   \n",
       "\n",
       "   distToHospital  distToMedical  distToSchool  distToUniversity  \n",
       "0        1.190414       0.516930      0.229914          0.793934  \n",
       "3        3.818996       1.297252      0.911597          0.822585  \n",
       "6        2.672311       1.214924      0.630336          0.623362  \n",
       "7        1.512533       1.845819      0.464874          1.620972  \n",
       "8        0.595347       1.058978      0.280087          1.750704  \n",
       "\n",
       "[5 rows x 36 columns]"
      ]
     },
     "execution_count": 21,
     "metadata": {},
     "output_type": "execute_result"
    }
   ],
   "source": [
    "X.head()\n"
   ]
  },
  {
   "cell_type": "code",
   "execution_count": 22,
   "id": "e105302c",
   "metadata": {},
   "outputs": [
    {
     "data": {
      "text/plain": [
       "0    14.002571\n",
       "3    12.063030\n",
       "6    12.063030\n",
       "7    12.994027\n",
       "8    12.654924\n",
       "Name: logSalePrice, dtype: float64"
      ]
     },
     "execution_count": 22,
     "metadata": {},
     "output_type": "execute_result"
    }
   ],
   "source": [
    "log_y.head()\n"
   ]
  },
  {
   "cell_type": "code",
   "execution_count": 23,
   "id": "5ff5411a",
   "metadata": {},
   "outputs": [
    {
     "data": {
      "text/plain": [
       "0    1205.699868\n",
       "3     173.343432\n",
       "6     173.343432\n",
       "7     439.778707\n",
       "8     313.302200\n",
       "Name: SalePrice, dtype: float64"
      ]
     },
     "execution_count": 23,
     "metadata": {},
     "output_type": "execute_result"
    }
   ],
   "source": [
    "y.head()\n"
   ]
  },
  {
   "cell_type": "markdown",
   "id": "f1f4f730",
   "metadata": {
    "tags": []
   },
   "source": [
    "### 4.1 Reduce the data"
   ]
  },
  {
   "cell_type": "code",
   "execution_count": 24,
   "id": "9dc81dd2",
   "metadata": {},
   "outputs": [
    {
     "data": {
      "text/plain": [
       "[0, 1, 6, 7, 9, 10, 16, 19, 22, 31]"
      ]
     },
     "execution_count": 24,
     "metadata": {},
     "output_type": "execute_result"
    }
   ],
   "source": [
    "# select the best 10 features\n",
    "F_select = SelectKBest(score_func=f_regression, k=10)\n",
    "X_select = F_select.fit_transform(X, log_y)\n",
    "\n",
    "index_list = F_select.get_support()\n",
    "index_select = []\n",
    "for i in range(X.shape[1]):\n",
    "    if index_list[i] == 1:\n",
    "        index_select.append(i)\n",
    "\n",
    "index_select\n"
   ]
  },
  {
   "cell_type": "code",
   "execution_count": 25,
   "id": "cebffae9",
   "metadata": {},
   "outputs": [
    {
     "data": {
      "text/html": [
       "<div>\n",
       "<style scoped>\n",
       "    .dataframe tbody tr th:only-of-type {\n",
       "        vertical-align: middle;\n",
       "    }\n",
       "\n",
       "    .dataframe tbody tr th {\n",
       "        vertical-align: top;\n",
       "    }\n",
       "\n",
       "    .dataframe thead th {\n",
       "        text-align: right;\n",
       "    }\n",
       "</style>\n",
       "<table border=\"1\" class=\"dataframe\">\n",
       "  <thead>\n",
       "    <tr style=\"text-align: right;\">\n",
       "      <th></th>\n",
       "      <th>feature</th>\n",
       "      <th>importance</th>\n",
       "    </tr>\n",
       "  </thead>\n",
       "  <tbody>\n",
       "    <tr>\n",
       "      <th>1</th>\n",
       "      <td>longitude</td>\n",
       "      <td>26257.906256</td>\n",
       "    </tr>\n",
       "    <tr>\n",
       "      <th>22</th>\n",
       "      <td>distToGPO</td>\n",
       "      <td>19041.788523</td>\n",
       "    </tr>\n",
       "    <tr>\n",
       "      <th>16</th>\n",
       "      <td>distToTunnel</td>\n",
       "      <td>15378.514025</td>\n",
       "    </tr>\n",
       "    <tr>\n",
       "      <th>9</th>\n",
       "      <td>distToCoastline</td>\n",
       "      <td>11632.170593</td>\n",
       "    </tr>\n",
       "    <tr>\n",
       "      <th>7</th>\n",
       "      <td>income</td>\n",
       "      <td>8988.726618</td>\n",
       "    </tr>\n",
       "    <tr>\n",
       "      <th>31</th>\n",
       "      <td>distToFerry</td>\n",
       "      <td>8821.533225</td>\n",
       "    </tr>\n",
       "    <tr>\n",
       "      <th>19</th>\n",
       "      <td>distToUnsealedRoad</td>\n",
       "      <td>8376.951349</td>\n",
       "    </tr>\n",
       "    <tr>\n",
       "      <th>10</th>\n",
       "      <td>distToNatPark</td>\n",
       "      <td>7297.084450</td>\n",
       "    </tr>\n",
       "    <tr>\n",
       "      <th>0</th>\n",
       "      <td>lotSize</td>\n",
       "      <td>4661.292072</td>\n",
       "    </tr>\n",
       "    <tr>\n",
       "      <th>6</th>\n",
       "      <td>crimeRate</td>\n",
       "      <td>3711.113391</td>\n",
       "    </tr>\n",
       "  </tbody>\n",
       "</table>\n",
       "</div>"
      ],
      "text/plain": [
       "               feature    importance\n",
       "1            longitude  26257.906256\n",
       "22           distToGPO  19041.788523\n",
       "16        distToTunnel  15378.514025\n",
       "9      distToCoastline  11632.170593\n",
       "7               income   8988.726618\n",
       "31         distToFerry   8821.533225\n",
       "19  distToUnsealedRoad   8376.951349\n",
       "10       distToNatPark   7297.084450\n",
       "0              lotSize   4661.292072\n",
       "6            crimeRate   3711.113391"
      ]
     },
     "execution_count": 25,
     "metadata": {},
     "output_type": "execute_result"
    }
   ],
   "source": [
    "# importances of features\n",
    "scores = F_select.scores_\n",
    "colnames = X.columns\n",
    "importances = pd.DataFrame({'feature': colnames, 'importance': scores})\n",
    "importances = importances.sort_values('importance', ascending=False)\n",
    "importances.head(10)\n"
   ]
  },
  {
   "cell_type": "code",
   "execution_count": 26,
   "id": "0d34120b",
   "metadata": {},
   "outputs": [
    {
     "data": {
      "text/html": [
       "<div>\n",
       "<style scoped>\n",
       "    .dataframe tbody tr th:only-of-type {\n",
       "        vertical-align: middle;\n",
       "    }\n",
       "\n",
       "    .dataframe tbody tr th {\n",
       "        vertical-align: top;\n",
       "    }\n",
       "\n",
       "    .dataframe thead th {\n",
       "        text-align: right;\n",
       "    }\n",
       "</style>\n",
       "<table border=\"1\" class=\"dataframe\">\n",
       "  <thead>\n",
       "    <tr style=\"text-align: right;\">\n",
       "      <th></th>\n",
       "      <th>lotSize</th>\n",
       "      <th>longitude</th>\n",
       "      <th>crimeRate</th>\n",
       "      <th>income</th>\n",
       "      <th>distToCoastline</th>\n",
       "      <th>distToNatPark</th>\n",
       "      <th>distToTunnel</th>\n",
       "      <th>distToUnsealedRoad</th>\n",
       "      <th>distToGPO</th>\n",
       "      <th>distToFerry</th>\n",
       "    </tr>\n",
       "  </thead>\n",
       "  <tbody>\n",
       "    <tr>\n",
       "      <th>0</th>\n",
       "      <td>645.000000</td>\n",
       "      <td>151.081364</td>\n",
       "      <td>0.329212</td>\n",
       "      <td>1564.0</td>\n",
       "      <td>2.142680</td>\n",
       "      <td>6.923308</td>\n",
       "      <td>7.500839</td>\n",
       "      <td>7.862015</td>\n",
       "      <td>11.823826</td>\n",
       "      <td>5.579980</td>\n",
       "    </tr>\n",
       "    <tr>\n",
       "      <th>1</th>\n",
       "      <td>553.000000</td>\n",
       "      <td>150.815021</td>\n",
       "      <td>0.206920</td>\n",
       "      <td>804.0</td>\n",
       "      <td>14.127644</td>\n",
       "      <td>7.685946</td>\n",
       "      <td>32.114024</td>\n",
       "      <td>1.915779</td>\n",
       "      <td>39.345297</td>\n",
       "      <td>20.149325</td>\n",
       "    </tr>\n",
       "    <tr>\n",
       "      <th>2</th>\n",
       "      <td>575.000000</td>\n",
       "      <td>150.803617</td>\n",
       "      <td>0.206920</td>\n",
       "      <td>504.0</td>\n",
       "      <td>13.337931</td>\n",
       "      <td>9.082003</td>\n",
       "      <td>34.199691</td>\n",
       "      <td>0.750949</td>\n",
       "      <td>39.472682</td>\n",
       "      <td>20.183875</td>\n",
       "    </tr>\n",
       "    <tr>\n",
       "      <th>3</th>\n",
       "      <td>700.262571</td>\n",
       "      <td>151.042088</td>\n",
       "      <td>0.251134</td>\n",
       "      <td>823.0</td>\n",
       "      <td>1.443709</td>\n",
       "      <td>4.243691</td>\n",
       "      <td>16.213310</td>\n",
       "      <td>3.859965</td>\n",
       "      <td>16.924224</td>\n",
       "      <td>3.097816</td>\n",
       "    </tr>\n",
       "    <tr>\n",
       "      <th>4</th>\n",
       "      <td>721.000000</td>\n",
       "      <td>151.035486</td>\n",
       "      <td>0.333071</td>\n",
       "      <td>804.0</td>\n",
       "      <td>3.420364</td>\n",
       "      <td>6.876696</td>\n",
       "      <td>11.710323</td>\n",
       "      <td>3.744639</td>\n",
       "      <td>15.968499</td>\n",
       "      <td>6.221853</td>\n",
       "    </tr>\n",
       "  </tbody>\n",
       "</table>\n",
       "</div>"
      ],
      "text/plain": [
       "      lotSize   longitude  crimeRate  income  distToCoastline  distToNatPark  \\\n",
       "0  645.000000  151.081364   0.329212  1564.0         2.142680       6.923308   \n",
       "1  553.000000  150.815021   0.206920   804.0        14.127644       7.685946   \n",
       "2  575.000000  150.803617   0.206920   504.0        13.337931       9.082003   \n",
       "3  700.262571  151.042088   0.251134   823.0         1.443709       4.243691   \n",
       "4  721.000000  151.035486   0.333071   804.0         3.420364       6.876696   \n",
       "\n",
       "   distToTunnel  distToUnsealedRoad  distToGPO  distToFerry  \n",
       "0      7.500839            7.862015  11.823826     5.579980  \n",
       "1     32.114024            1.915779  39.345297    20.149325  \n",
       "2     34.199691            0.750949  39.472682    20.183875  \n",
       "3     16.213310            3.859965  16.924224     3.097816  \n",
       "4     11.710323            3.744639  15.968499     6.221853  "
      ]
     },
     "execution_count": 26,
     "metadata": {},
     "output_type": "execute_result"
    }
   ],
   "source": [
    "# convert to dataframe\n",
    "df_X_select = pd.DataFrame(X_select)\n",
    "# change column names\n",
    "df_X_select.columns = X.columns[index_select]\n",
    "# check\n",
    "df_X_select.head()\n"
   ]
  },
  {
   "cell_type": "markdown",
   "id": "c10450e0",
   "metadata": {},
   "source": [
    "### 4.2 Project the data"
   ]
  },
  {
   "cell_type": "code",
   "execution_count": 27,
   "id": "5b864068",
   "metadata": {},
   "outputs": [
    {
     "data": {
      "text/plain": [
       "<matplotlib.collections.PathCollection at 0x7f92a05687c0>"
      ]
     },
     "execution_count": 27,
     "metadata": {},
     "output_type": "execute_result"
    },
    {
     "data": {
      "image/png": "[encoded data removed]",
      "text/plain": [
       "<Figure size 432x288 with 1 Axes>"
      ]
     },
     "metadata": {
      "needs_background": "light"
     },
     "output_type": "display_data"
    }
   ],
   "source": [
    "# plot longitude vs logSalePrice\n",
    "plt.scatter(df_X_select['longitude'], log_y)\n"
   ]
  },
  {
   "cell_type": "code",
   "execution_count": 28,
   "id": "b256255f",
   "metadata": {},
   "outputs": [
    {
     "data": {
      "text/plain": [
       "<matplotlib.collections.PathCollection at 0x7f92a06081f0>"
      ]
     },
     "execution_count": 28,
     "metadata": {},
     "output_type": "execute_result"
    },
    {
     "data": {
      "image/png": "[encoded data removed]",
      "text/plain": [
       "<Figure size 432x288 with 1 Axes>"
      ]
     },
     "metadata": {
      "needs_background": "light"
     },
     "output_type": "display_data"
    }
   ],
   "source": [
    "# plot longitude vs SalePrice\n",
    "plt.scatter(df_X_select['longitude'], y)\n"
   ]
  },
  {
   "cell_type": "markdown",
   "id": "384ca760",
   "metadata": {},
   "source": [
    "### 6.3 Build/Select appropriate model(s) and choose relevant parameter(s)"
   ]
  },
  {
   "cell_type": "markdown",
   "id": "30e39436",
   "metadata": {},
   "source": [
    "### 7.2 Conduct data mining"
   ]
  },
  {
   "cell_type": "code",
   "execution_count": 29,
   "id": "318507f2",
   "metadata": {},
   "outputs": [
    {
     "name": "stderr",
     "output_type": "stream",
     "text": [
      "WARNING: An illegal reflective access operation has occurred\n",
      "WARNING: Illegal reflective access by org.apache.spark.unsafe.Platform (file:/home/ubuntu/spark-3.2.1-bin-hadoop2.7/jars/spark-unsafe_2.12-3.2.1.jar) to constructor java.nio.DirectByteBuffer(long,int)\n",
      "WARNING: Please consider reporting this to the maintainers of org.apache.spark.unsafe.Platform\n",
      "WARNING: Use --illegal-access=warn to enable warnings of further illegal reflective access operations\n",
      "WARNING: All illegal access operations will be denied in a future release\n",
      "Using Spark's default log4j profile: org/apache/spark/log4j-defaults.properties\n",
      "Setting default log level to \"WARN\".\n",
      "To adjust logging level use sc.setLogLevel(newLevel). For SparkR, use setLogLevel(newLevel).\n",
      "22/10/13 21:14:47 WARN NativeCodeLoader: Unable to load native-hadoop library for your platform... using builtin-java classes where applicable\n"
     ]
    }
   ],
   "source": [
    "# Univariate Linear Regression\n",
    "# using pyspark\n",
    "# Must be included at the beginning of each new notebook. Remember to change the app name.\n",
    "from pyspark.ml.feature import VectorAssembler\n",
    "from pyspark.ml.regression import LinearRegression\n",
    "from pyspark.sql import SparkSession\n",
    "import pyspark\n",
    "import findspark\n",
    "findspark.init('/home/ubuntu/spark-3.2.1-bin-hadoop2.7')\n",
    "spark = SparkSession.builder.appName('linear_reg').getOrCreate()\n"
   ]
  },
  {
   "cell_type": "code",
   "execution_count": 30,
   "id": "97934fb8",
   "metadata": {},
   "outputs": [
    {
     "data": {
      "text/html": [
       "<div>\n",
       "<style scoped>\n",
       "    .dataframe tbody tr th:only-of-type {\n",
       "        vertical-align: middle;\n",
       "    }\n",
       "\n",
       "    .dataframe tbody tr th {\n",
       "        vertical-align: top;\n",
       "    }\n",
       "\n",
       "    .dataframe thead th {\n",
       "        text-align: right;\n",
       "    }\n",
       "</style>\n",
       "<table border=\"1\" class=\"dataframe\">\n",
       "  <thead>\n",
       "    <tr style=\"text-align: right;\">\n",
       "      <th></th>\n",
       "      <th>lotSize</th>\n",
       "      <th>longitude</th>\n",
       "      <th>crimeRate</th>\n",
       "      <th>income</th>\n",
       "      <th>distToCoastline</th>\n",
       "      <th>distToNatPark</th>\n",
       "      <th>distToTunnel</th>\n",
       "      <th>distToUnsealedRoad</th>\n",
       "      <th>distToGPO</th>\n",
       "      <th>distToFerry</th>\n",
       "      <th>logSalePrice</th>\n",
       "      <th>SalePrice</th>\n",
       "    </tr>\n",
       "  </thead>\n",
       "  <tbody>\n",
       "    <tr>\n",
       "      <th>0</th>\n",
       "      <td>645.000000</td>\n",
       "      <td>151.081364</td>\n",
       "      <td>0.329212</td>\n",
       "      <td>1564.0</td>\n",
       "      <td>2.142680</td>\n",
       "      <td>6.923308</td>\n",
       "      <td>7.500839</td>\n",
       "      <td>7.862015</td>\n",
       "      <td>11.823826</td>\n",
       "      <td>5.579980</td>\n",
       "      <td>14.002571</td>\n",
       "      <td>1205.699868</td>\n",
       "    </tr>\n",
       "    <tr>\n",
       "      <th>1</th>\n",
       "      <td>553.000000</td>\n",
       "      <td>150.815021</td>\n",
       "      <td>0.206920</td>\n",
       "      <td>804.0</td>\n",
       "      <td>14.127644</td>\n",
       "      <td>7.685946</td>\n",
       "      <td>32.114024</td>\n",
       "      <td>1.915779</td>\n",
       "      <td>39.345297</td>\n",
       "      <td>20.149325</td>\n",
       "      <td>NaN</td>\n",
       "      <td>NaN</td>\n",
       "    </tr>\n",
       "    <tr>\n",
       "      <th>2</th>\n",
       "      <td>575.000000</td>\n",
       "      <td>150.803617</td>\n",
       "      <td>0.206920</td>\n",
       "      <td>504.0</td>\n",
       "      <td>13.337931</td>\n",
       "      <td>9.082003</td>\n",
       "      <td>34.199691</td>\n",
       "      <td>0.750949</td>\n",
       "      <td>39.472682</td>\n",
       "      <td>20.183875</td>\n",
       "      <td>NaN</td>\n",
       "      <td>NaN</td>\n",
       "    </tr>\n",
       "    <tr>\n",
       "      <th>3</th>\n",
       "      <td>700.262571</td>\n",
       "      <td>151.042088</td>\n",
       "      <td>0.251134</td>\n",
       "      <td>823.0</td>\n",
       "      <td>1.443709</td>\n",
       "      <td>4.243691</td>\n",
       "      <td>16.213310</td>\n",
       "      <td>3.859965</td>\n",
       "      <td>16.924224</td>\n",
       "      <td>3.097816</td>\n",
       "      <td>12.063030</td>\n",
       "      <td>173.343432</td>\n",
       "    </tr>\n",
       "    <tr>\n",
       "      <th>4</th>\n",
       "      <td>721.000000</td>\n",
       "      <td>151.035486</td>\n",
       "      <td>0.333071</td>\n",
       "      <td>804.0</td>\n",
       "      <td>3.420364</td>\n",
       "      <td>6.876696</td>\n",
       "      <td>11.710323</td>\n",
       "      <td>3.744639</td>\n",
       "      <td>15.968499</td>\n",
       "      <td>6.221853</td>\n",
       "      <td>NaN</td>\n",
       "      <td>NaN</td>\n",
       "    </tr>\n",
       "  </tbody>\n",
       "</table>\n",
       "</div>"
      ],
      "text/plain": [
       "      lotSize   longitude  crimeRate  income  distToCoastline  distToNatPark  \\\n",
       "0  645.000000  151.081364   0.329212  1564.0         2.142680       6.923308   \n",
       "1  553.000000  150.815021   0.206920   804.0        14.127644       7.685946   \n",
       "2  575.000000  150.803617   0.206920   504.0        13.337931       9.082003   \n",
       "3  700.262571  151.042088   0.251134   823.0         1.443709       4.243691   \n",
       "4  721.000000  151.035486   0.333071   804.0         3.420364       6.876696   \n",
       "\n",
       "   distToTunnel  distToUnsealedRoad  distToGPO  distToFerry  logSalePrice  \\\n",
       "0      7.500839            7.862015  11.823826     5.579980     14.002571   \n",
       "1     32.114024            1.915779  39.345297    20.149325           NaN   \n",
       "2     34.199691            0.750949  39.472682    20.183875           NaN   \n",
       "3     16.213310            3.859965  16.924224     3.097816     12.063030   \n",
       "4     11.710323            3.744639  15.968499     6.221853           NaN   \n",
       "\n",
       "     SalePrice  \n",
       "0  1205.699868  \n",
       "1          NaN  \n",
       "2          NaN  \n",
       "3   173.343432  \n",
       "4          NaN  "
      ]
     },
     "execution_count": 30,
     "metadata": {},
     "output_type": "execute_result"
    }
   ],
   "source": [
    "# combine explanatory and response variables\n",
    "df = df_X_select\n",
    "df['logSalePrice'] = log_y\n",
    "df['SalePrice'] = y\n",
    "# check\n",
    "df.head()\n"
   ]
  },
  {
   "cell_type": "code",
   "execution_count": 31,
   "id": "25fcafba",
   "metadata": {},
   "outputs": [
    {
     "name": "stdout",
     "output_type": "stream",
     "text": [
      "root\n",
      " |-- lotSize: double (nullable = true)\n",
      " |-- longitude: double (nullable = true)\n",
      " |-- crimeRate: double (nullable = true)\n",
      " |-- income: double (nullable = true)\n",
      " |-- distToCoastline: double (nullable = true)\n",
      " |-- distToNatPark: double (nullable = true)\n",
      " |-- distToTunnel: double (nullable = true)\n",
      " |-- distToUnsealedRoad: double (nullable = true)\n",
      " |-- distToGPO: double (nullable = true)\n",
      " |-- distToFerry: double (nullable = true)\n",
      " |-- logSalePrice: double (nullable = true)\n",
      " |-- SalePrice: double (nullable = true)\n",
      "\n"
     ]
    }
   ],
   "source": [
    "# convert to spark dataframe\n",
    "df_spark = spark.createDataFrame(df)\n",
    "# check\n",
    "df_spark.printSchema()"
   ]
  },
  {
   "cell_type": "code",
   "execution_count": 32,
   "id": "391ec928",
   "metadata": {},
   "outputs": [
    {
     "name": "stderr",
     "output_type": "stream",
     "text": [
      "22/10/13 21:14:57 WARN TaskSetManager: Stage 0 contains a task of very large size (1336 KiB). The maximum recommended task size is 1000 KiB.\n",
      "[Stage 0:>                                                          (0 + 1) / 1]\r"
     ]
    },
    {
     "name": "stdout",
     "output_type": "stream",
     "text": [
      "+----------+------------+\n",
      "| longitude|logSalePrice|\n",
      "+----------+------------+\n",
      "|151.081364| 14.00257076|\n",
      "|151.042088| 12.06303006|\n",
      "|151.081312| 12.06303006|\n",
      "|151.099618| 12.99402694|\n",
      "|151.211359|  12.6549235|\n",
      "|151.095329|  12.9867009|\n",
      "|151.007302| 13.17391244|\n",
      "|150.770307| 13.78711853|\n",
      "|151.113055| 13.79107371|\n",
      "|151.100714| 14.50376549|\n",
      "|150.712185| 13.36231304|\n",
      "|150.877943| 12.51904744|\n",
      "|150.979174|  12.6792162|\n",
      "|151.081463| 13.33154138|\n",
      "|151.040266| 12.25150548|\n",
      "|151.030426| 13.25582956|\n",
      "|150.707008| 13.19323671|\n",
      "|151.137569| 13.19800999|\n",
      "|150.981428| 12.50486281|\n",
      "|151.117718| 12.36176197|\n",
      "+----------+------------+\n",
      "only showing top 20 rows\n",
      "\n"
     ]
    },
    {
     "name": "stderr",
     "output_type": "stream",
     "text": [
      "                                                                                \r"
     ]
    }
   ],
   "source": [
    "# Univariate Linear Regression\n",
    "# only 'longitude' as explanatory variable\n",
    "data = df_spark.select(\"longitude\", 'logSalePrice')\n",
    "# remove NA values\n",
    "data = data.na.drop()\n",
    "data.show()\n"
   ]
  },
  {
   "cell_type": "code",
   "execution_count": 33,
   "id": "8660544d",
   "metadata": {},
   "outputs": [
    {
     "name": "stderr",
     "output_type": "stream",
     "text": [
      "22/10/13 21:15:00 WARN TaskSetManager: Stage 1 contains a task of very large size (1336 KiB). The maximum recommended task size is 1000 KiB.\n",
      "[Stage 1:>                                                          (0 + 2) / 2]\r"
     ]
    },
    {
     "name": "stdout",
     "output_type": "stream",
     "text": [
      "+-------+------------------+------------------+\n",
      "|summary|         longitude|      logSalePrice|\n",
      "+-------+------------------+------------------+\n",
      "|  count|             11403|             11403|\n",
      "|   mean|  151.012634767342| 13.02613341732353|\n",
      "| stddev|0.1357371236523024|0.5065218833542972|\n",
      "|    min|        150.665959|       11.76791301|\n",
      "|    max|        151.282455|       14.82163254|\n",
      "+-------+------------------+------------------+\n",
      "\n"
     ]
    },
    {
     "name": "stderr",
     "output_type": "stream",
     "text": [
      "                                                                                \r"
     ]
    }
   ],
   "source": [
    "assembler = VectorAssembler(\n",
    "    inputCols=[\"longitude\"],\n",
    "    outputCol=\"longitude_\")\n",
    "\n",
    "output = assembler.transform(data)\n",
    "\n",
    "# split data into training and testing sets\n",
    "train_data, test_data = output.randomSplit([0.7, 0.3])\n",
    "train_data.describe().show()\n"
   ]
  },
  {
   "cell_type": "code",
   "execution_count": 34,
   "id": "c0ee19a2",
   "metadata": {},
   "outputs": [
    {
     "name": "stderr",
     "output_type": "stream",
     "text": [
      "22/10/13 21:15:02 WARN Instrumentation: [def44a35] regParam is zero, which might cause numerical instability and overfitting.\n",
      "22/10/13 21:15:03 WARN TaskSetManager: Stage 4 contains a task of very large size (1336 KiB). The maximum recommended task size is 1000 KiB.\n",
      "22/10/13 21:15:03 WARN InstanceBuilder$NativeBLAS: Failed to load implementation from:dev.ludovic.netlib.blas.JNIBLAS\n",
      "22/10/13 21:15:03 WARN InstanceBuilder$NativeBLAS: Failed to load implementation from:dev.ludovic.netlib.blas.ForeignLinkerBLAS\n",
      "22/10/13 21:15:03 WARN InstanceBuilder$NativeLAPACK: Failed to load implementation from:dev.ludovic.netlib.lapack.JNILAPACK\n",
      "22/10/13 21:15:04 WARN TaskSetManager: Stage 5 contains a task of very large size (1336 KiB). The maximum recommended task size is 1000 KiB.\n",
      "                                                                                \r"
     ]
    }
   ],
   "source": [
    "# do the regression\n",
    "lr1 = LinearRegression(featuresCol='longitude_', labelCol='logSalePrice')\n",
    "lrModel1 = lr1.fit(train_data)"
   ]
  },
  {
   "cell_type": "code",
   "execution_count": 35,
   "id": "f1b133bf",
   "metadata": {},
   "outputs": [
    {
     "name": "stderr",
     "output_type": "stream",
     "text": [
      "22/10/13 21:15:05 WARN TaskSetManager: Stage 6 contains a task of very large size (1336 KiB). The maximum recommended task size is 1000 KiB.\n"
     ]
    },
    {
     "name": "stdout",
     "output_type": "stream",
     "text": [
      "Coefficients: [0.04396839597736949] Intercept: 6.386350094287161\n"
     ]
    }
   ],
   "source": [
    "# test results\n",
    "test_results1 = lrModel1.evaluate(test_data)\n",
    "# print the coefficients and intercept for linear regression\n",
    "print(\"Coefficients: {} Intercept: {}\".format(\n",
    "    lrModel1.coefficients, lrModel1.intercept))\n"
   ]
  },
  {
   "cell_type": "code",
   "execution_count": 36,
   "id": "5b60244d",
   "metadata": {},
   "outputs": [
    {
     "name": "stdout",
     "output_type": "stream",
     "text": [
      "RMSE: 0.49939533832776417\n",
      "R2: -0.00033751382643520955\n"
     ]
    }
   ],
   "source": [
    "# print the RMSE\n",
    "print(\"RMSE: {}\".format(test_results1.rootMeanSquaredError))\n",
    "# print the R2\n",
    "print(\"R2: {}\".format(test_results1.r2))\n"
   ]
  },
  {
   "cell_type": "code",
   "execution_count": 37,
   "id": "26f6bb6b",
   "metadata": {},
   "outputs": [],
   "source": [
    "# store the results in a dataframe\n",
    "results = pd.DataFrame({\"Model\": [\"Univariate Linear Regression\"],\n",
    "                    'RMSE': [test_results1.rootMeanSquaredError],\n",
    "                    'R2': [test_results1.r2]})"
   ]
  },
  {
   "cell_type": "code",
   "execution_count": 38,
   "metadata": {},
   "outputs": [
    {
     "name": "stdout",
     "output_type": "stream",
     "text": [
      "+-----------+----------+-----------+------+------------------+-------------+------------+------------------+-----------+-----------+------------+\n",
      "|    lotSize| longitude|  crimeRate|income|   distToCoastline|distToNatPark|distToTunnel|distToUnsealedRoad|  distToGPO|distToFerry|logSalePrice|\n",
      "+-----------+----------+-----------+------+------------------+-------------+------------+------------------+-----------+-----------+------------+\n",
      "|      645.0|151.081364|0.329211579|1564.0|       2.142679997|  6.923308139| 7.500839131|       7.862014708|  11.823826|5.579979736| 14.00257076|\n",
      "|700.2625707|151.042088| 0.25113383| 823.0|       1.443709268|  4.243691371| 16.21330965|        3.85996549|16.92422389|3.097816483| 12.06303006|\n",
      "|579.0057919|151.081312| 0.14095137|1016.0|       3.529289219|  4.792174592| 4.456347609|       7.699100559|13.73797112| 10.7151134| 12.06303006|\n",
      "|795.5046069|151.099618|0.132836382|1104.0|       0.791807534|   4.79256718| 9.207712008|       1.587379309|19.15863597|6.452227758| 12.99402694|\n",
      "|      816.0|151.211359|0.188119661|1406.0|       0.384682213|  1.673633429| 6.699456084|       5.668700344|9.014758542|6.018611072|  12.6549235|\n",
      "|758.7135974|151.095329|0.132836382|1849.0|        0.06710858|  5.346878022| 7.631937949|        2.95778327|17.85154151|8.088888507|  12.9867009|\n",
      "|777.0477193|151.007302|0.132836382|1575.0|       3.281712704|  4.641549739| 15.81198518|       0.823121437|  26.291814|13.27177635| 13.17391244|\n",
      "|      806.0|150.770307| 0.21295483|1148.0|13.344702895758928|  10.42508173| 36.73649398|       1.358085751|41.29689995|22.27020203| 13.78711853|\n",
      "|747.4111371|151.113055| 0.14095137| 946.0|       1.996628445|  7.245235787|  1.58196242|       6.889075433|11.29125368|9.396187869| 13.79107371|\n",
      "|      440.0|151.100714|0.239182283|1007.0|        1.18972273|  5.753582169| 5.615574809|        8.74302735|10.27408342|5.829862755| 14.50376549|\n",
      "|      708.0|150.712185| 0.21295483| 688.0| 16.82079382682923|  6.921143264| 41.24187479|       1.144823479|47.89094157|28.61592282| 13.36231304|\n",
      "|616.8920972|150.877943|0.193313972| 540.0|       8.257867605|  4.409419141| 23.39182226|        1.89726094|30.82250572|16.17424424| 12.51904744|\n",
      "|      556.0|150.979174| 0.25113383| 588.0|       2.991772579|   2.38382018| 21.08189413|       1.704498836|22.75599836|3.639956979|  12.6792162|\n",
      "|584.0662445|151.081463|0.132836382| 964.0|       1.824650894|  2.298781443| 11.86835224|       1.300092405|21.93241678|6.670063027| 13.33154138|\n",
      "|      900.0|151.040266|0.118623491|1822.0|       7.108882748|  2.450564829| 18.51800252|       2.756378867|20.24563966|7.406714863| 12.25150548|\n",
      "|871.8324896|151.030426|0.118623491|1290.0|       3.382082663|  4.191043599| 18.23462951|       3.719016779|18.91769225|3.741334977| 13.25582956|\n",
      "|      556.0|150.707008| 0.21295483| 630.0|15.773125971812988|  5.126110509| 42.71322736|       1.447569569|47.67480058|28.49792219| 13.19323671|\n",
      "|      487.0|151.137569| 0.14095137| 759.0|       0.211082892|  7.162826595| 1.148015314|        4.58088382|9.211094796|7.991860878| 13.19800999|\n",
      "|      556.0|150.981428|0.209772239|1032.0|         3.8691892|  3.091282585| 17.34008903|       1.335560565|21.19202761|3.982306559| 12.50486281|\n",
      "|829.4778645|151.117718|0.107858013|2000.0|       6.900262571|  2.259590951|  12.4174418|       1.919480792|19.33104517| 12.4299992| 12.36176197|\n",
      "+-----------+----------+-----------+------+------------------+-------------+------------+------------------+-----------+-----------+------------+\n",
      "only showing top 20 rows\n",
      "\n"
     ]
    },
    {
     "name": "stderr",
     "output_type": "stream",
     "text": [
      "22/10/13 21:15:07 WARN TaskSetManager: Stage 7 contains a task of very large size (1336 KiB). The maximum recommended task size is 1000 KiB.\n"
     ]
    }
   ],
   "source": [
    "# Multivariate Linear Regression\n",
    "# all explanatory variables except SalePrice\n",
    "data = df_spark.select(df_spark.columns[0:11])\n",
    "# remove NA values\n",
    "data = data.na.drop()\n",
    "data.show()\n"
   ]
  },
  {
   "cell_type": "code",
   "execution_count": 39,
   "id": "35961f90",
   "metadata": {},
   "outputs": [],
   "source": [
    "assembler = VectorAssembler(\n",
    "    inputCols=[\"lotSize\", \"longitude\", \"crimeRate\", \"income\",\n",
    "               \"distToCoastline\", \"distToNatPark\", \"distToTunnel\",\n",
    "               \"distToUnsealedRoad\", \"distToGPO\", \"distToFerry\"],\n",
    "    outputCol=\"explavar\")\n",
    "\n",
    "output = assembler.transform(data)\n",
    "\n",
    "# split data into training and testing sets\n",
    "train_data, test_data = output.randomSplit([0.7, 0.3])\n"
   ]
  },
  {
   "cell_type": "code",
   "execution_count": 40,
   "id": "31dfa617",
   "metadata": {},
   "outputs": [
    {
     "name": "stderr",
     "output_type": "stream",
     "text": [
      "22/10/13 21:15:08 WARN Instrumentation: [65169c25] regParam is zero, which might cause numerical instability and overfitting.\n",
      "22/10/13 21:15:08 WARN TaskSetManager: Stage 8 contains a task of very large size (1336 KiB). The maximum recommended task size is 1000 KiB.\n",
      "22/10/13 21:15:09 WARN TaskSetManager: Stage 9 contains a task of very large size (1336 KiB). The maximum recommended task size is 1000 KiB.\n"
     ]
    }
   ],
   "source": [
    "# do the regression\n",
    "lr2 = LinearRegression(featuresCol='explavar', labelCol='logSalePrice')\n",
    "lrModel2 = lr2.fit(train_data)"
   ]
  },
  {
   "cell_type": "code",
   "execution_count": 41,
   "id": "70f0dfa4",
   "metadata": {},
   "outputs": [
    {
     "name": "stderr",
     "output_type": "stream",
     "text": [
      "22/10/13 21:15:10 WARN TaskSetManager: Stage 10 contains a task of very large size (1336 KiB). The maximum recommended task size is 1000 KiB.\n"
     ]
    },
    {
     "name": "stdout",
     "output_type": "stream",
     "text": [
      "Coefficients: [-3.0090953661789273e-05,0.1558538167151835,-0.04231737544460251,3.332195510842669e-05,-0.00022103839570271957,0.0032403195190090885,0.001909872834547866,0.003250079892909144,0.0006095454298880409,-0.0002499741176398287] Intercept: -10.585968859198386\n"
     ]
    }
   ],
   "source": [
    "# test results\n",
    "test_results2 = lrModel2.evaluate(test_data)\n",
    "# print the coefficients and intercept for linear regression\n",
    "print(\"Coefficients: {} Intercept: {}\".format(\n",
    "    lrModel2.coefficients, lrModel2.intercept))"
   ]
  },
  {
   "cell_type": "code",
   "execution_count": 42,
   "id": "4d100913",
   "metadata": {},
   "outputs": [
    {
     "name": "stdout",
     "output_type": "stream",
     "text": [
      "RMSE: 0.5107643224880004\n",
      "R2: -0.0008392259726517359\n"
     ]
    }
   ],
   "source": [
    "# print the RMSE\n",
    "print(\"RMSE: {}\".format(test_results2.rootMeanSquaredError))\n",
    "# print the R2\n",
    "print(\"R2: {}\".format(test_results2.r2))"
   ]
  },
  {
   "cell_type": "code",
   "execution_count": 43,
   "id": "0892d23a",
   "metadata": {},
   "outputs": [
    {
     "name": "stderr",
     "output_type": "stream",
     "text": [
      "/tmp/ipykernel_4990/2613983238.py:2: FutureWarning: The frame.append method is deprecated and will be removed from pandas in a future version. Use pandas.concat instead.\n",
      "  results = results.append({\"Model\": \"Multivariate Linear Regression\",\n"
     ]
    }
   ],
   "source": [
    "# store the results in a dataframe\n",
    "results = results.append({\"Model\": \"Multivariate Linear Regression\",\n",
    "                          'RMSE': test_results2.rootMeanSquaredError,\n",
    "                          'R2': test_results2.r2}, ignore_index=True)\n"
   ]
  },
  {
   "cell_type": "code",
   "execution_count": 44,
   "metadata": {},
   "outputs": [],
   "source": [
    "# random forest\n",
    "from pyspark.ml.regression import RandomForestRegressor\n",
    "from pyspark.ml import Pipeline\n",
    "from pyspark.ml.evaluation import RegressionEvaluator\n"
   ]
  },
  {
   "cell_type": "code",
   "execution_count": 45,
   "id": "d5f89baa",
   "metadata": {},
   "outputs": [],
   "source": [
    "\n",
    "# split data into training and testing sets\n",
    "train_data, test_data = output.randomSplit([0.7, 0.3])\n"
   ]
  },
  {
   "cell_type": "code",
   "execution_count": 46,
   "id": "3eab0537",
   "metadata": {},
   "outputs": [
    {
     "name": "stderr",
     "output_type": "stream",
     "text": [
      "22/10/13 21:15:12 WARN TaskSetManager: Stage 11 contains a task of very large size (1336 KiB). The maximum recommended task size is 1000 KiB.\n",
      "22/10/13 21:15:13 WARN TaskSetManager: Stage 12 contains a task of very large size (1336 KiB). The maximum recommended task size is 1000 KiB.\n",
      "22/10/13 21:15:14 WARN TaskSetManager: Stage 13 contains a task of very large size (1336 KiB). The maximum recommended task size is 1000 KiB.\n",
      "22/10/13 21:15:15 WARN TaskSetManager: Stage 15 contains a task of very large size (1336 KiB). The maximum recommended task size is 1000 KiB.\n",
      "22/10/13 21:15:16 WARN TaskSetManager: Stage 17 contains a task of very large size (1336 KiB). The maximum recommended task size is 1000 KiB.\n",
      "22/10/13 21:15:17 WARN TaskSetManager: Stage 19 contains a task of very large size (1336 KiB). The maximum recommended task size is 1000 KiB.\n",
      "22/10/13 21:15:17 WARN TaskSetManager: Stage 21 contains a task of very large size (1336 KiB). The maximum recommended task size is 1000 KiB.\n",
      "22/10/13 21:15:17 WARN TaskSetManager: Stage 23 contains a task of very large size (1336 KiB). The maximum recommended task size is 1000 KiB.\n",
      "22/10/13 21:15:18 WARN TaskSetManager: Stage 25 contains a task of very large size (1336 KiB). The maximum recommended task size is 1000 KiB.\n"
     ]
    },
    {
     "name": "stdout",
     "output_type": "stream",
     "text": [
      "+------------------+------------+\n",
      "|        prediction|logSalePrice|\n",
      "+------------------+------------+\n",
      "|13.107838673150217| 13.05765263|\n",
      "|13.078877084694629| 13.05765263|\n",
      "|13.126786391854797| 13.45854107|\n",
      "|13.039297052454225| 12.99256602|\n",
      "|13.123270370596098|  12.6383942|\n",
      "|13.032137287422131| 12.13448902|\n",
      "|13.068077634329217| 13.13664104|\n",
      "|13.051651840736065| 13.03549106|\n",
      "|13.044887867579266| 13.07799232|\n",
      "| 13.09478047631211| 13.80154501|\n",
      "+------------------+------------+\n",
      "only showing top 10 rows\n",
      "\n"
     ]
    },
    {
     "name": "stderr",
     "output_type": "stream",
     "text": [
      "22/10/13 21:15:19 WARN TaskSetManager: Stage 26 contains a task of very large size (1336 KiB). The maximum recommended task size is 1000 KiB.\n",
      "22/10/13 21:15:20 WARN TaskSetManager: Stage 27 contains a task of very large size (1336 KiB). The maximum recommended task size is 1000 KiB.\n"
     ]
    },
    {
     "name": "stdout",
     "output_type": "stream",
     "text": [
      "Root Mean Squared Error (RMSE) on test data = 0.499342\n",
      "R Squared (R2) on test data = -0.000696758\n"
     ]
    }
   ],
   "source": [
    "\n",
    "# do the regression\n",
    "rf = RandomForestRegressor(featuresCol='explavar', labelCol='logSalePrice')\n",
    "rfModel = rf.fit(train_data)\n",
    "\n",
    "# test results\n",
    "predictions = rfModel.transform(test_data)\n",
    "predictions.select(\"prediction\", \"logSalePrice\").show(10)\n",
    "\n",
    "# evaluate the model\n",
    "evaluator1 = RegressionEvaluator(\n",
    "    labelCol=\"logSalePrice\", predictionCol=\"prediction\", metricName=\"rmse\")\n",
    "rmse = evaluator1.evaluate(predictions)\n",
    "evaluator2 = RegressionEvaluator(\n",
    "    labelCol=\"logSalePrice\", predictionCol=\"prediction\", metricName=\"r2\")\n",
    "r2 = evaluator2.evaluate(predictions)\n",
    "\n",
    "# print both RMSE and R2\n",
    "print(\"Root Mean Squared Error (RMSE) on test data = %g\" % rmse)\n",
    "print(\"R Squared (R2) on test data = %g\" % r2)\n"
   ]
  },
  {
   "cell_type": "code",
   "execution_count": 47,
   "id": "f83c55b6",
   "metadata": {},
   "outputs": [
    {
     "name": "stderr",
     "output_type": "stream",
     "text": [
      "/tmp/ipykernel_4990/500925500.py:2: FutureWarning: The frame.append method is deprecated and will be removed from pandas in a future version. Use pandas.concat instead.\n",
      "  results = results.append({\"Model\": \"Random Forest\",\n"
     ]
    }
   ],
   "source": [
    "# store the results in a dataframe\n",
    "results = results.append({\"Model\": \"Random Forest\",\n",
    "                          'RMSE': rmse,\n",
    "                          'R2': r2}, ignore_index=True)"
   ]
  },
  {
   "cell_type": "markdown",
   "id": "ad4f1767",
   "metadata": {},
   "source": [
    "### 7.3 Search for patterns"
   ]
  },
  {
   "cell_type": "code",
   "execution_count": 48,
   "id": "b990810e",
   "metadata": {},
   "outputs": [
    {
     "data": {
      "image/png": "[encoded data removed]",
      "text/plain": [
       "<Figure size 432x288 with 1 Axes>"
      ]
     },
     "metadata": {
      "needs_background": "light"
     },
     "output_type": "display_data"
    }
   ],
   "source": [
    "# plot the results: R-squared\n",
    "plt.bar(results['Model'], results['R2'])\n",
    "plt.title('R-squared of 3 models')\n",
    "plt.ylabel('R-squared')\n",
    "plt.xticks(rotation=45)\n",
    "plt.show()\n"
   ]
  },
  {
   "cell_type": "code",
   "execution_count": 49,
   "id": "86ed470e",
   "metadata": {},
   "outputs": [
    {
     "data": {
      "image/png": "[encoded data removed]",
      "text/plain": [
       "<Figure size 432x288 with 1 Axes>"
      ]
     },
     "metadata": {
      "needs_background": "light"
     },
     "output_type": "display_data"
    }
   ],
   "source": [
    "# plot the results: RMSE\n",
    "plt.bar(results['Model'], results['RMSE'])\n",
    "plt.title('RMSE of 3 models')\n",
    "plt.ylabel('RMSE')\n",
    "plt.xticks(rotation=45)\n",
    "plt.show()\n"
   ]
  },
  {
   "cell_type": "code",
   "execution_count": 50,
   "id": "ebf27873",
   "metadata": {},
   "outputs": [],
   "source": [
    "# terminate the spark session\n",
    "spark.stop()\n"
   ]
  }
 ],
 "metadata": {
  "kernelspec": {
   "display_name": "Python 3.10.4 64-bit",
   "language": "python",
   "name": "python3"
  },
  "language_info": {
   "codemirror_mode": {
    "name": "ipython",
    "version": 3
   },
   "file_extension": ".py",
   "mimetype": "text/x-python",
   "name": "python",
   "nbconvert_exporter": "python",
   "pygments_lexer": "ipython3",
   "version": "3.10.4"
  },
  "vscode": {
   "interpreter": {
    "hash": "916dbcbb3f70747c44a77c7bcd40155683ae19c65e1c03b4aa3499c5328201f1"
   }
  }
 },
 "nbformat": 4,
 "nbformat_minor": 5
}
